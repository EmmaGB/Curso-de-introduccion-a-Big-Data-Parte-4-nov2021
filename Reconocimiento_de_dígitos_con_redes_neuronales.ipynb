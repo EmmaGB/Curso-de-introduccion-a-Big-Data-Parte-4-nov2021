{
  "nbformat": 4,
  "nbformat_minor": 0,
  "metadata": {
    "colab": {
      "name": "Reconocimiento de dígitos con redes neuronales.ipynb",
      "provenance": [],
      "authorship_tag": "ABX9TyNYZyYthxgASUnuODVRWDtM",
      "include_colab_link": true
    },
    "kernelspec": {
      "name": "python3",
      "display_name": "Python 3"
    },
    "language_info": {
      "name": "python"
    }
  },
  "cells": [
    {
      "cell_type": "markdown",
      "metadata": {
        "id": "view-in-github",
        "colab_type": "text"
      },
      "source": [
        "<a href=\"https://colab.research.google.com/github/alberto1971/Curso-de-introduccion-a-Big-Data-Parte-4-nov2021/blob/main/Reconocimiento_de_d%C3%ADgitos_con_redes_neuronales.ipynb\" target=\"_parent\"><img src=\"https://colab.research.google.com/assets/colab-badge.svg\" alt=\"Open In Colab\"/></a>"
      ]
    },
    {
      "cell_type": "markdown",
      "metadata": {
        "id": "kuMVPAlR35EC"
      },
      "source": [
        "#El Dataset MNIST \n",
        "\n",
        "El problema de clasificación de dígitos manuscritos del MNIST es un conjunto de datos estándar que se utiliza en visión artificial y aprendizaje profundo.\n",
        "\n",
        "Como ya se habrá dado cuenta, necesitamos datos etiquetados para entrenar cualquier modelo. En este ejemplo, usaremos el conjunto de datos MNIST de dígitos escritos a mano. Este conjunto de datos es parte del paquete Keras. Contiene un conjunto de entrenamiento de 60.000 ejemplos y un conjunto de prueba de 10.000 ejemplos. Entrenaremos los datos en el conjunto de entrenamiento y validaremos los resultados en función de los datos de la prueba. Además, crearemos una imagen propia para probar si el modelo puede predecirla correctamente.\n",
        "\n",
        "Primero, importemos el conjunto de datos MNIST de Keras. El método .load_data () devuelve los conjuntos de datos de entrenamiento y prueba:"
      ]
    },
    {
      "cell_type": "code",
      "metadata": {
        "id": "2NxtNYnMwG7H"
      },
      "source": [
        "from keras.datasets import mnist\n",
        "\n",
        "(x_train, y_train), (x_test, y_test) = mnist.load_data()"
      ],
      "execution_count": null,
      "outputs": []
    },
    {
      "cell_type": "markdown",
      "metadata": {
        "id": "lJoId7_unltw"
      },
      "source": [
        "Si intentamos visualizar una de las imágenes como datos el aspecto sería el siguiente:"
      ]
    },
    {
      "cell_type": "code",
      "metadata": {
        "colab": {
          "base_uri": "https://localhost:8080/"
        },
        "id": "95RA_rb3nd_R",
        "outputId": "c41a1f0e-d96a-4be2-e761-901de89182c0"
      },
      "source": [
        "x_train[0]"
      ],
      "execution_count": null,
      "outputs": [
        {
          "output_type": "execute_result",
          "data": {
            "text/plain": [
              "array([[  0,   0,   0,   0,   0,   0,   0,   0,   0,   0,   0,   0,   0,\n",
              "          0,   0,   0,   0,   0,   0,   0,   0,   0,   0,   0,   0,   0,\n",
              "          0,   0],\n",
              "       [  0,   0,   0,   0,   0,   0,   0,   0,   0,   0,   0,   0,   0,\n",
              "          0,   0,   0,   0,   0,   0,   0,   0,   0,   0,   0,   0,   0,\n",
              "          0,   0],\n",
              "       [  0,   0,   0,   0,   0,   0,   0,   0,   0,   0,   0,   0,   0,\n",
              "          0,   0,   0,   0,   0,   0,   0,   0,   0,   0,   0,   0,   0,\n",
              "          0,   0],\n",
              "       [  0,   0,   0,   0,   0,   0,   0,   0,   0,   0,   0,   0,   0,\n",
              "          0,   0,   0,   0,   0,   0,   0,   0,   0,   0,   0,   0,   0,\n",
              "          0,   0],\n",
              "       [  0,   0,   0,   0,   0,   0,   0,   0,   0,   0,   0,   0,   0,\n",
              "          0,   0,   0,   0,   0,   0,   0,   0,   0,   0,   0,   0,   0,\n",
              "          0,   0],\n",
              "       [  0,   0,   0,   0,   0,   0,   0,   0,   0,   0,   0,   0,   3,\n",
              "         18,  18,  18, 126, 136, 175,  26, 166, 255, 247, 127,   0,   0,\n",
              "          0,   0],\n",
              "       [  0,   0,   0,   0,   0,   0,   0,   0,  30,  36,  94, 154, 170,\n",
              "        253, 253, 253, 253, 253, 225, 172, 253, 242, 195,  64,   0,   0,\n",
              "          0,   0],\n",
              "       [  0,   0,   0,   0,   0,   0,   0,  49, 238, 253, 253, 253, 253,\n",
              "        253, 253, 253, 253, 251,  93,  82,  82,  56,  39,   0,   0,   0,\n",
              "          0,   0],\n",
              "       [  0,   0,   0,   0,   0,   0,   0,  18, 219, 253, 253, 253, 253,\n",
              "        253, 198, 182, 247, 241,   0,   0,   0,   0,   0,   0,   0,   0,\n",
              "          0,   0],\n",
              "       [  0,   0,   0,   0,   0,   0,   0,   0,  80, 156, 107, 253, 253,\n",
              "        205,  11,   0,  43, 154,   0,   0,   0,   0,   0,   0,   0,   0,\n",
              "          0,   0],\n",
              "       [  0,   0,   0,   0,   0,   0,   0,   0,   0,  14,   1, 154, 253,\n",
              "         90,   0,   0,   0,   0,   0,   0,   0,   0,   0,   0,   0,   0,\n",
              "          0,   0],\n",
              "       [  0,   0,   0,   0,   0,   0,   0,   0,   0,   0,   0, 139, 253,\n",
              "        190,   2,   0,   0,   0,   0,   0,   0,   0,   0,   0,   0,   0,\n",
              "          0,   0],\n",
              "       [  0,   0,   0,   0,   0,   0,   0,   0,   0,   0,   0,  11, 190,\n",
              "        253,  70,   0,   0,   0,   0,   0,   0,   0,   0,   0,   0,   0,\n",
              "          0,   0],\n",
              "       [  0,   0,   0,   0,   0,   0,   0,   0,   0,   0,   0,   0,  35,\n",
              "        241, 225, 160, 108,   1,   0,   0,   0,   0,   0,   0,   0,   0,\n",
              "          0,   0],\n",
              "       [  0,   0,   0,   0,   0,   0,   0,   0,   0,   0,   0,   0,   0,\n",
              "         81, 240, 253, 253, 119,  25,   0,   0,   0,   0,   0,   0,   0,\n",
              "          0,   0],\n",
              "       [  0,   0,   0,   0,   0,   0,   0,   0,   0,   0,   0,   0,   0,\n",
              "          0,  45, 186, 253, 253, 150,  27,   0,   0,   0,   0,   0,   0,\n",
              "          0,   0],\n",
              "       [  0,   0,   0,   0,   0,   0,   0,   0,   0,   0,   0,   0,   0,\n",
              "          0,   0,  16,  93, 252, 253, 187,   0,   0,   0,   0,   0,   0,\n",
              "          0,   0],\n",
              "       [  0,   0,   0,   0,   0,   0,   0,   0,   0,   0,   0,   0,   0,\n",
              "          0,   0,   0,   0, 249, 253, 249,  64,   0,   0,   0,   0,   0,\n",
              "          0,   0],\n",
              "       [  0,   0,   0,   0,   0,   0,   0,   0,   0,   0,   0,   0,   0,\n",
              "          0,  46, 130, 183, 253, 253, 207,   2,   0,   0,   0,   0,   0,\n",
              "          0,   0],\n",
              "       [  0,   0,   0,   0,   0,   0,   0,   0,   0,   0,   0,   0,  39,\n",
              "        148, 229, 253, 253, 253, 250, 182,   0,   0,   0,   0,   0,   0,\n",
              "          0,   0],\n",
              "       [  0,   0,   0,   0,   0,   0,   0,   0,   0,   0,  24, 114, 221,\n",
              "        253, 253, 253, 253, 201,  78,   0,   0,   0,   0,   0,   0,   0,\n",
              "          0,   0],\n",
              "       [  0,   0,   0,   0,   0,   0,   0,   0,  23,  66, 213, 253, 253,\n",
              "        253, 253, 198,  81,   2,   0,   0,   0,   0,   0,   0,   0,   0,\n",
              "          0,   0],\n",
              "       [  0,   0,   0,   0,   0,   0,  18, 171, 219, 253, 253, 253, 253,\n",
              "        195,  80,   9,   0,   0,   0,   0,   0,   0,   0,   0,   0,   0,\n",
              "          0,   0],\n",
              "       [  0,   0,   0,   0,  55, 172, 226, 253, 253, 253, 253, 244, 133,\n",
              "         11,   0,   0,   0,   0,   0,   0,   0,   0,   0,   0,   0,   0,\n",
              "          0,   0],\n",
              "       [  0,   0,   0,   0, 136, 253, 253, 253, 212, 135, 132,  16,   0,\n",
              "          0,   0,   0,   0,   0,   0,   0,   0,   0,   0,   0,   0,   0,\n",
              "          0,   0],\n",
              "       [  0,   0,   0,   0,   0,   0,   0,   0,   0,   0,   0,   0,   0,\n",
              "          0,   0,   0,   0,   0,   0,   0,   0,   0,   0,   0,   0,   0,\n",
              "          0,   0],\n",
              "       [  0,   0,   0,   0,   0,   0,   0,   0,   0,   0,   0,   0,   0,\n",
              "          0,   0,   0,   0,   0,   0,   0,   0,   0,   0,   0,   0,   0,\n",
              "          0,   0],\n",
              "       [  0,   0,   0,   0,   0,   0,   0,   0,   0,   0,   0,   0,   0,\n",
              "          0,   0,   0,   0,   0,   0,   0,   0,   0,   0,   0,   0,   0,\n",
              "          0,   0]], dtype=uint8)"
            ]
          },
          "metadata": {},
          "execution_count": 47
        }
      ]
    },
    {
      "cell_type": "markdown",
      "metadata": {
        "id": "IunnQLQ64Obs"
      },
      "source": [
        "Intentemos visualizar los dígitos en el conjunto de datos. Usamos la siguiente función mágica para mostrar diagramas de Matplotlib en línea:"
      ]
    },
    {
      "cell_type": "code",
      "metadata": {
        "id": "m1_K-VcD4Njj"
      },
      "source": [
        "%matplotlib inline"
      ],
      "execution_count": null,
      "outputs": []
    },
    {
      "cell_type": "markdown",
      "metadata": {
        "id": "CKLCuHws4e34"
      },
      "source": [
        "A continuación, importamos el módulo pyplot de matplotlib y usamos el método .imshow () para mostrar la imagen:"
      ]
    },
    {
      "cell_type": "code",
      "metadata": {
        "colab": {
          "base_uri": "https://localhost:8080/",
          "height": 281
        },
        "id": "Vibsrn5_4Uyd",
        "outputId": "0455fe92-6d1c-4843-8fb3-8fa48abd829c"
      },
      "source": [
        "import matplotlib.pyplot as plt\n",
        "\n",
        "image_index = 35\n",
        "print(\"La etiqueta de la imagen es:\", y_train[image_index])\n",
        "plt.imshow(x_train[image_index], cmap='Greys')\n",
        "plt.show()"
      ],
      "execution_count": null,
      "outputs": [
        {
          "output_type": "stream",
          "name": "stdout",
          "text": [
            "La etiqueta de la imagen es: 5\n"
          ]
        },
        {
          "output_type": "display_data",
          "data": {
            "image/png": "[encoded data removed]",
            "text/plain": [
              "<Figure size 432x288 with 1 Axes>"
            ]
          },
          "metadata": {
            "needs_background": "light"
          }
        }
      ]
    },
    {
      "cell_type": "markdown",
      "metadata": {
        "id": "1gWYES7v4vTu"
      },
      "source": [
        "Se imprime la etiqueta de la imagen y luego se muestra la imagen. Podemos observar que para cada pixel, el valor 0 representa el blanco y el valor 255 representa el color negro, y los valores intermedios entre 0 y 255 representan todos los tonos grises entre el blanco y el negro."
      ]
    },
    {
      "cell_type": "markdown",
      "metadata": {
        "id": "owgRB8eF5K7P"
      },
      "source": [
        "Verifiquemos los tamaños de los conjuntos de datos de entrenamiento y prueba:\n"
      ]
    },
    {
      "cell_type": "code",
      "metadata": {
        "colab": {
          "base_uri": "https://localhost:8080/"
        },
        "id": "ZzK9fUlr5eq3",
        "outputId": "95d85042-f0a1-4f71-9275-34bcb2e10239"
      },
      "source": [
        "print(x_train.shape)\n",
        "print(x_test.shape)"
      ],
      "execution_count": null,
      "outputs": [
        {
          "output_type": "stream",
          "name": "stdout",
          "text": [
            "(60000, 28, 28)\n",
            "(10000, 28, 28)\n"
          ]
        }
      ]
    },
    {
      "cell_type": "markdown",
      "metadata": {
        "id": "Hm_-gSnd5NR8"
      },
      "source": [
        "Observamos que tenemos 60.000 imágenes de entrenamiento y 10.000 de test, y que cada imagen tiene las dimensiones 28 x 28 pixels\n",
        "\n",
        "Podemos visualizar unas cuantas imágenes de dígitos"
      ]
    },
    {
      "cell_type": "code",
      "metadata": {
        "colab": {
          "base_uri": "https://localhost:8080/",
          "height": 268
        },
        "id": "u8o26SiG8nMY",
        "outputId": "93df927e-726c-4320-efe3-3e783fe9d035"
      },
      "source": [
        "# plot first few images\n",
        "#from matplotlib import pyplot\n",
        "for i in range(9):\n",
        "\t# define subplot\n",
        "\tplt.subplot(330 + 1 + i)\n",
        "\t# plot raw pixel data\n",
        "\tplt.imshow(x_train[i], cmap=plt.get_cmap('Greys'))\n",
        "# show the figure\n",
        "plt.show()"
      ],
      "execution_count": null,
      "outputs": [
        {
          "output_type": "display_data",
          "data": {
            "image/png": "[encoded data removed]",
            "text/plain": [
              "<Figure size 432x288 with 9 Axes>"
            ]
          },
          "metadata": {
            "needs_background": "light"
          }
        }
      ]
    },
    {
      "cell_type": "markdown",
      "metadata": {
        "id": "BXsG8lSs57OW"
      },
      "source": [
        "A continuación, es posible que también deseemos explorar la variable dependiente, almacenada en y_train, que llamamos etiquetas. Podemos ver como se corresponden las etiquetas con las imágenes anteriores "
      ]
    },
    {
      "cell_type": "code",
      "metadata": {
        "colab": {
          "base_uri": "https://localhost:8080/"
        },
        "id": "gU1X9ode569Y",
        "outputId": "1c0019b3-b3c7-4359-958c-7af1e0d1f210"
      },
      "source": [
        "print(y_train[0:3])\n",
        "print(y_train[3:6])\n",
        "print(y_train[6:9])\n",
        "#print(y_train[:image_index + 1])"
      ],
      "execution_count": null,
      "outputs": [
        {
          "output_type": "stream",
          "name": "stdout",
          "text": [
            "[5 0 4]\n",
            "[1 9 2]\n",
            "[1 3 1]\n"
          ]
        }
      ]
    },
    {
      "cell_type": "markdown",
      "metadata": {
        "id": "cjSRayDUBMIZ"
      },
      "source": [
        "Veamos cuántas imágenes tenemos de cada dígito"
      ]
    },
    {
      "cell_type": "code",
      "metadata": {
        "colab": {
          "base_uri": "https://localhost:8080/"
        },
        "id": "m5y_Ky9zBTlw",
        "outputId": "d80b250c-3e61-4016-f9dd-7ae6e4f2eb7d"
      },
      "source": [
        "import numpy as np\n",
        "\n",
        "digitos, cantidad = np.unique(y_train, return_counts=True)\n",
        "\n",
        "print (np.asarray((digitos, cantidad)).T)"
      ],
      "execution_count": null,
      "outputs": [
        {
          "output_type": "stream",
          "name": "stdout",
          "text": [
            "[[   0 5923]\n",
            " [   1 6742]\n",
            " [   2 5958]\n",
            " [   3 6131]\n",
            " [   4 5842]\n",
            " [   5 5421]\n",
            " [   6 5918]\n",
            " [   7 6265]\n",
            " [   8 5851]\n",
            " [   9 5949]]\n"
          ]
        }
      ]
    },
    {
      "cell_type": "code",
      "metadata": {
        "colab": {
          "base_uri": "https://localhost:8080/",
          "height": 284
        },
        "id": "Xikey5Z4Cqr-",
        "outputId": "252ae885-7a80-41c0-a568-59e616cccc3c"
      },
      "source": [
        "plt.bar(digitos, cantidad)"
      ],
      "execution_count": null,
      "outputs": [
        {
          "output_type": "execute_result",
          "data": {
            "text/plain": [
              "<BarContainer object of 10 artists>"
            ]
          },
          "metadata": {},
          "execution_count": 54
        },
        {
          "output_type": "display_data",
          "data": {
            "image/png": "[encoded data removed]",
            "text/plain": [
              "<Figure size 432x288 with 1 Axes>"
            ]
          },
          "metadata": {
            "needs_background": "light"
          }
        }
      ]
    },
    {
      "cell_type": "markdown",
      "metadata": {
        "id": "ysS1df146OWu"
      },
      "source": [
        "##Limpieza de datos\n",
        "Ahora que hemos visto la estructura de los datos, trabajemos más en ella antes de crear el modelo.\n",
        "\n",
        "Para trabajar con la API de Keras, necesitamos remodelar cada imagen al formato de (M x N x 1). Usaremos el método .reshape () para realizar esta acción. Finalmente, normalizamos los datos de la imagen dividiendo cada valor de píxel por 255 (ya que los valores RGB pueden oscilar entre 0 y 255):"
      ]
    },
    {
      "cell_type": "code",
      "metadata": {
        "id": "PUG1BIZG4n3u",
        "colab": {
          "base_uri": "https://localhost:8080/"
        },
        "outputId": "3eb945ee-d604-44ec-fa54-ed49b14d2dae"
      },
      "source": [
        "# save input image dimensions\n",
        "img_rows, img_cols = 28, 28\n",
        "\n",
        "x_train = x_train.reshape(x_train.shape[0], img_rows, img_cols, 1) / 255\n",
        "x_test = x_test.reshape(x_test.shape[0], img_rows, img_cols, 1) / 255\n",
        "\n",
        "print(x_train.shape)\n",
        "print(x_test.shape)\n"
      ],
      "execution_count": null,
      "outputs": [
        {
          "output_type": "stream",
          "name": "stdout",
          "text": [
            "(60000, 28, 28, 1)\n",
            "(10000, 28, 28, 1)\n"
          ]
        }
      ]
    },
    {
      "cell_type": "markdown",
      "metadata": {
        "id": "0041waLd6wX6"
      },
      "source": [
        "A continuación, necesitamos convertir la variable dependiente en forma de números enteros en una matriz de clase binaria. Esto se puede lograr mediante la función to_categorical ():"
      ]
    },
    {
      "cell_type": "code",
      "metadata": {
        "colab": {
          "base_uri": "https://localhost:8080/"
        },
        "id": "SGybt0Kr63zM",
        "outputId": "7a894516-f3b8-413e-8e08-c05bb39a4f2f"
      },
      "source": [
        "from tensorflow.keras.utils import to_categorical\n",
        "num_classes = 10\n",
        "\n",
        "y_train = to_categorical(y_train, num_classes)\n",
        "y_test = to_categorical(y_test, num_classes)\n",
        "\n",
        "print(y_train.shape)\n",
        "print(y_test.shape)"
      ],
      "execution_count": null,
      "outputs": [
        {
          "output_type": "stream",
          "name": "stdout",
          "text": [
            "(60000, 10)\n",
            "(10000, 10)\n"
          ]
        }
      ]
    },
    {
      "cell_type": "markdown",
      "metadata": {
        "id": "8DEWX1oU7Atl"
      },
      "source": [
        "¡Ahora estamos listos para crear el modelo y entrenarlo!"
      ]
    },
    {
      "cell_type": "markdown",
      "metadata": {
        "id": "so1-dYXkp_vS"
      },
      "source": [
        "##Diseñar un modelo\n",
        "El proceso de diseño del modelo es el factor más complejo y tiene un impacto directo en el rendimiento del modelo. Para este tutorial, usaremos este diseño de la documentación de Keras.\n",
        "\n",
        "Para crear el modelo, primero inicializamos un modelo secuencial. Crea un objeto modelo vacío. El primer paso es agregar una capa convolucional, que toma la imagen de entrada:"
      ]
    },
    {
      "cell_type": "code",
      "metadata": {
        "id": "R-R4kycFqG8x"
      },
      "source": [
        "from keras.models import Sequential\n",
        "from keras.layers import Dense, Dropout, Flatten, Conv2D, MaxPooling2D\n",
        "\n",
        "model = Sequential()\n",
        "model.add(Conv2D(32, kernel_size=(3, 3),\n",
        "     activation='relu',\n",
        "     input_shape=(img_rows, img_cols, 1)))"
      ],
      "execution_count": null,
      "outputs": []
    },
    {
      "cell_type": "markdown",
      "metadata": {
        "id": "La6N5yZgqS-h"
      },
      "source": [
        "Una activación relu significa \"Unidades lineales rectificadas\", que toma el máximo de un valor o cero. A continuación, agregamos otra capa convolucional, seguida de una capa de agrupación:"
      ]
    },
    {
      "cell_type": "code",
      "metadata": {
        "id": "TfgCAaa1qY0Q"
      },
      "source": [
        "model.add(Conv2D(64, (3, 3), activation='relu'))\n",
        "model.add(MaxPooling2D(pool_size=(2, 2)))"
      ],
      "execution_count": null,
      "outputs": []
    },
    {
      "cell_type": "markdown",
      "metadata": {
        "id": "mLlZ9gfJqgno"
      },
      "source": [
        "\n",
        "A continuación, agregamos una capa de \"abandono\". Si bien las redes neuronales se entrenan en enormes conjuntos de datos, puede ocurrir un problema de sobreajuste. Para evitar este problema, dejamos caer unidades y sus conexiones al azar durante el proceso de entrenamiento. En este caso, eliminaremos el 25% de las unidades: "
      ]
    },
    {
      "cell_type": "code",
      "metadata": {
        "id": "IyxVDs6W6aDl"
      },
      "source": [
        "model.add(Dropout(0.25))"
      ],
      "execution_count": null,
      "outputs": []
    },
    {
      "cell_type": "markdown",
      "metadata": {
        "id": "lKJVq9gFqtGJ"
      },
      "source": [
        "A continuación, agregamos una capa de aplanamiento para convertir la capa oculta anterior en una matriz 1D:"
      ]
    },
    {
      "cell_type": "code",
      "metadata": {
        "id": "jllrKmy6qytx"
      },
      "source": [
        "model.add(Flatten())"
      ],
      "execution_count": null,
      "outputs": []
    },
    {
      "cell_type": "markdown",
      "metadata": {
        "id": "ey_pvV2eq6Tx"
      },
      "source": [
        "Una vez que hayamos aplanado los datos en una matriz 1D, podemos agregar una capa oculta densa, lo cual es normal para una red neuronal tradicional. A continuación, agregue otra capa de abandono antes de agregar una capa densa final que clasifica los datos: "
      ]
    },
    {
      "cell_type": "code",
      "metadata": {
        "id": "wo1bJ5KQq-sB"
      },
      "source": [
        "model.add(Dense(128, activation='relu'))\n",
        "model.add(Dropout(0.5))\n",
        "model.add(Dense(num_classes, activation='softmax'))"
      ],
      "execution_count": null,
      "outputs": []
    },
    {
      "cell_type": "markdown",
      "metadata": {
        "id": "wLxIOxbTrFOB"
      },
      "source": [
        "La activación de softmax se utiliza cuando nos gustaría clasificar los datos en una serie de clases predeterminadas."
      ]
    },
    {
      "cell_type": "markdown",
      "metadata": {
        "id": "2Qs0eTNYxrfa"
      },
      "source": [
        "##Visualizar el modelo\n",
        "Podemos visualizar el modelo de CNN que hemos definido de dos formas:\n",
        "- En formato descriptivo de capas"
      ]
    },
    {
      "cell_type": "code",
      "metadata": {
        "id": "sZDliM4vx5KI",
        "colab": {
          "base_uri": "https://localhost:8080/"
        },
        "outputId": "ec211e5f-7273-45fd-dde0-66896a34079c"
      },
      "source": [
        "print(model.summary())"
      ],
      "execution_count": null,
      "outputs": [
        {
          "output_type": "stream",
          "name": "stdout",
          "text": [
            "Model: \"sequential_1\"\n",
            "_________________________________________________________________\n",
            "Layer (type)                 Output Shape              Param #   \n",
            "=================================================================\n",
            "conv2d_2 (Conv2D)            (None, 26, 26, 32)        320       \n",
            "_________________________________________________________________\n",
            "conv2d_3 (Conv2D)            (None, 24, 24, 64)        18496     \n",
            "_________________________________________________________________\n",
            "max_pooling2d_1 (MaxPooling2 (None, 12, 12, 64)        0         \n",
            "_________________________________________________________________\n",
            "dropout_2 (Dropout)          (None, 12, 12, 64)        0         \n",
            "_________________________________________________________________\n",
            "flatten_1 (Flatten)          (None, 9216)              0         \n",
            "_________________________________________________________________\n",
            "dense_2 (Dense)              (None, 128)               1179776   \n",
            "_________________________________________________________________\n",
            "dropout_3 (Dropout)          (None, 128)               0         \n",
            "_________________________________________________________________\n",
            "dense_3 (Dense)              (None, 10)                1290      \n",
            "=================================================================\n",
            "Total params: 1,199,882\n",
            "Trainable params: 1,199,882\n",
            "Non-trainable params: 0\n",
            "_________________________________________________________________\n",
            "None\n"
          ]
        }
      ]
    },
    {
      "cell_type": "markdown",
      "metadata": {
        "id": "LLmN69IZx80B"
      },
      "source": [
        "- En diagrama de bloques"
      ]
    },
    {
      "cell_type": "code",
      "metadata": {
        "id": "GTI5nRDeyPz4",
        "colab": {
          "base_uri": "https://localhost:8080/"
        },
        "outputId": "989fd116-83fa-4483-d6b6-d9746b15b5ba"
      },
      "source": [
        "from keras.utils.vis_utils import plot_model\n",
        "plot_model(model, to_file='model_plot.png', show_shapes=True, show_layer_names=True)"
      ],
      "execution_count": null,
      "outputs": [
        {
          "output_type": "execute_result",
          "data": {
            "image/png": "[encoded data removed]",
            "text/plain": [
              "<IPython.core.display.Image object>"
            ]
          },
          "metadata": {},
          "execution_count": 63
        }
      ]
    },
    {
      "cell_type": "markdown",
      "metadata": {
        "id": "Ofw-uuYGrM75"
      },
      "source": [
        "##Compilar y entrenar modelo\n",
        "En el proceso de diseño del modelo, creamos un modelo vacío sin una función objetivo. Necesitamos compilar el modelo y especificar una función de pérdida, una función de optimización y una métrica para evaluar el rendimiento del modelo.\n",
        "\n",
        "Necesitamos usar una función de pérdida sparse_categorical_crossentropy () en caso de que tengamos una variable dependiente de números enteros. Para una variable dependiente basada en vectores como una matriz de diez tamaños como la salida de cada caso de prueba, use categorical_crossentropy. En este ejemplo, usaremos adam optimizer. La métrica es la base para la evaluación del rendimiento de nuestro modelo, aunque es solo para nosotros juzgar y no se utiliza en el paso de formación:"
      ]
    },
    {
      "cell_type": "code",
      "metadata": {
        "id": "-E8gyQjorXUJ"
      },
      "source": [
        "model.compile(loss='categorical_crossentropy',\n",
        "      optimizer='adam',\n",
        "      metrics=['accuracy'])"
      ],
      "execution_count": null,
      "outputs": []
    },
    {
      "cell_type": "markdown",
      "metadata": {
        "id": "iVm1lh50rdv6"
      },
      "source": [
        "Ahora estamos listos para entrenar el modelo con el método .fit(). Necesitamos especificar un epoch (número de iteraciones) y un batch (tamaño de lote) al entrenar el modelo. Un epoch es una iteración que consiste en un pase hacia adelante y un pase hacia atrás de todos los ejemplos de entrenamiento. Un batch o tamaño de lote es la cantidad de ejemplos de entrenamiento en una pasada hacia adelante o hacia atrás.\n",
        "\n",
        "Finalmente, guarde el modelo una vez que se complete el entrenamiento para usar sus resultados en una etapa posterior:"
      ]
    },
    {
      "cell_type": "code",
      "metadata": {
        "colab": {
          "base_uri": "https://localhost:8080/"
        },
        "id": "IAAIVu0CsF7y",
        "outputId": "7190044e-807d-4358-fa5e-e8472a073035"
      },
      "source": [
        "batch_size = 128\n",
        "epochs = 10\n",
        "\n",
        "history=model.fit(x_train, y_train,\n",
        "                  batch_size=batch_size,\n",
        "                  epochs=epochs,\n",
        "                  verbose=1,\n",
        "                  validation_data=(x_test, y_test))\n",
        "score = model.evaluate(x_test, y_test, verbose=0)\n",
        "print('Test loss:', score[0])\n",
        "print('Test accuracy:', score[1])\n",
        "model.save(\"test_model.h5\")"
      ],
      "execution_count": null,
      "outputs": [
        {
          "output_type": "stream",
          "name": "stdout",
          "text": [
            "Epoch 1/10\n",
            "469/469 [==============================] - 152s 323ms/step - loss: 0.2393 - accuracy: 0.9272 - val_loss: 0.0582 - val_accuracy: 0.9820\n",
            "Epoch 2/10\n",
            "469/469 [==============================] - 152s 324ms/step - loss: 0.0903 - accuracy: 0.9730 - val_loss: 0.0393 - val_accuracy: 0.9858\n",
            "Epoch 3/10\n",
            "469/469 [==============================] - 152s 324ms/step - loss: 0.0643 - accuracy: 0.9806 - val_loss: 0.0358 - val_accuracy: 0.9889\n",
            "Epoch 4/10\n",
            "469/469 [==============================] - 152s 324ms/step - loss: 0.0525 - accuracy: 0.9842 - val_loss: 0.0328 - val_accuracy: 0.9897\n",
            "Epoch 5/10\n",
            "469/469 [==============================] - 150s 321ms/step - loss: 0.0430 - accuracy: 0.9864 - val_loss: 0.0333 - val_accuracy: 0.9897\n",
            "Epoch 6/10\n",
            "469/469 [==============================] - 151s 321ms/step - loss: 0.0380 - accuracy: 0.9881 - val_loss: 0.0303 - val_accuracy: 0.9911\n",
            "Epoch 7/10\n",
            "469/469 [==============================] - 150s 320ms/step - loss: 0.0353 - accuracy: 0.9888 - val_loss: 0.0299 - val_accuracy: 0.9906\n",
            "Epoch 8/10\n",
            "469/469 [==============================] - 148s 316ms/step - loss: 0.0313 - accuracy: 0.9901 - val_loss: 0.0272 - val_accuracy: 0.9918\n",
            "Epoch 9/10\n",
            "469/469 [==============================] - 150s 320ms/step - loss: 0.0276 - accuracy: 0.9909 - val_loss: 0.0300 - val_accuracy: 0.9922\n",
            "Epoch 10/10\n",
            "469/469 [==============================] - 151s 323ms/step - loss: 0.0250 - accuracy: 0.9916 - val_loss: 0.0293 - val_accuracy: 0.9915\n",
            "Test loss: 0.02933621220290661\n",
            "Test accuracy: 0.9915000200271606\n"
          ]
        }
      ]
    },
    {
      "cell_type": "markdown",
      "metadata": {
        "id": "4XQrhJamsTkB"
      },
      "source": [
        "Cuando ejecutamos el código anterior, se muestra el siguiente resultado a medida que se ejecuta el modelo. Tarda unos 3 minutos por epoch"
      ]
    },
    {
      "cell_type": "markdown",
      "metadata": {
        "id": "thHbvH7ZLrPE"
      },
      "source": [
        "Podemos ver el historial de indicadores del modelo: loss (pérdida) y accuracy (precisión) tanto del conjunto de entrenamiento (train) como del conjunto de validación (test) y representar su evolución con cada pasada o epoch"
      ]
    },
    {
      "cell_type": "code",
      "metadata": {
        "colab": {
          "base_uri": "https://localhost:8080/"
        },
        "id": "EkbYwXU9FKDd",
        "outputId": "fcb51d4b-296e-4121-e104-e6a9f66330fe"
      },
      "source": [
        "print(history.history.keys())"
      ],
      "execution_count": null,
      "outputs": [
        {
          "output_type": "stream",
          "name": "stdout",
          "text": [
            "dict_keys(['loss', 'accuracy', 'val_loss', 'val_accuracy'])\n"
          ]
        }
      ]
    },
    {
      "cell_type": "code",
      "metadata": {
        "colab": {
          "base_uri": "https://localhost:8080/",
          "height": 279
        },
        "id": "IyvZEpNVEBdS",
        "outputId": "95989fde-209f-4c8f-a103-55066919866b"
      },
      "source": [
        "plt.plot(history.history['loss'],'g')\n",
        "plt.plot(history.history['val_loss'],'r')\n",
        "plt.xlabel('Epochs')\n",
        "plt.ylabel('loss')\n",
        "plt.legend(['train', 'test'], loc='best')\n",
        "plt.show()"
      ],
      "execution_count": null,
      "outputs": [
        {
          "output_type": "display_data",
          "data": {
            "image/png": "[encoded data removed]",
            "text/plain": [
              "<Figure size 432x288 with 1 Axes>"
            ]
          },
          "metadata": {
            "needs_background": "light"
          }
        }
      ]
    },
    {
      "cell_type": "code",
      "metadata": {
        "colab": {
          "base_uri": "https://localhost:8080/",
          "height": 279
        },
        "id": "Ak7Mn3E6J885",
        "outputId": "63138762-a3b0-4ddb-ebb0-eca71ef7154c"
      },
      "source": [
        "plt.plot(history.history['accuracy'],'g')\n",
        "plt.plot(history.history['val_accuracy'],'r')\n",
        "plt.xlabel('Epochs')\n",
        "plt.ylabel('loss')\n",
        "plt.legend(['train', 'test'], loc='best')\n",
        "plt.show()"
      ],
      "execution_count": null,
      "outputs": [
        {
          "output_type": "display_data",
          "data": {
            "image/png": "[encoded data removed]",
            "text/plain": [
              "<Figure size 432x288 with 1 Axes>"
            ]
          },
          "metadata": {
            "needs_background": "light"
          }
        }
      ]
    },
    {
      "cell_type": "markdown",
      "metadata": {
        "id": "dJH9GcmjFgiV"
      },
      "source": [
        "Al final del último epoch o iteración, la precisión del conjunto de datos de prueba es del 99,1%. Es difícil saber a priori si la precisión es lo suficientemente alta. Para una prueba de funcionamiento, la precisión superior al 99% es muy buena\n",
        "\n",
        "Comprobemos en qué casos nuestro modelo de reconocimiento de dígitos ha fallado en el conjunto de entrenamiento"
      ]
    },
    {
      "cell_type": "code",
      "metadata": {
        "id": "Gq7IT-tFF0cT"
      },
      "source": [
        "predictions0=model.predict(x_train)\n",
        "#(y_train==predictions0).sum(), (y_train==predictions0).count(), (y_train==predictions0).sum()/(y_train==predictions0).count()"
      ],
      "execution_count": null,
      "outputs": []
    },
    {
      "cell_type": "code",
      "metadata": {
        "id": "6nMdBixOOnuW"
      },
      "source": [
        "y_pred=np.argmax(predictions0,axis=1)"
      ],
      "execution_count": null,
      "outputs": []
    },
    {
      "cell_type": "markdown",
      "metadata": {
        "id": "e7divjHLSfBx"
      },
      "source": [
        "Recuperamos los datos originales de x_train e y_train"
      ]
    },
    {
      "cell_type": "code",
      "metadata": {
        "id": "F9JhMaZGQXq9"
      },
      "source": [
        "(x_train, y_train), (x_test, y_test) = mnist.load_data()"
      ],
      "execution_count": null,
      "outputs": []
    },
    {
      "cell_type": "code",
      "metadata": {
        "colab": {
          "base_uri": "https://localhost:8080/",
          "height": 298
        },
        "id": "ReTJiA2FF6PB",
        "outputId": "1307cb80-abec-4b70-acfb-6969c2e1e737"
      },
      "source": [
        "fallos_train=x_train[(y_train!=y_pred)]\n",
        "num_train=16\n",
        "plt.imshow(fallos_train[num_train], cmap='Greys')\n",
        "plt.show()\n",
        "print(\"Número: \",y_train[y_train!=y_pred][num_train])\n",
        "print(\"Número predicho: \",y_pred[y_train!=y_pred][num_train])"
      ],
      "execution_count": null,
      "outputs": [
        {
          "output_type": "display_data",
          "data": {
            "image/png": "[encoded data removed]",
            "text/plain": [
              "<Figure size 432x288 with 1 Axes>"
            ]
          },
          "metadata": {
            "needs_background": "light"
          }
        },
        {
          "output_type": "stream",
          "name": "stdout",
          "text": [
            "Número:  3\n",
            "Número predicho:  5\n"
          ]
        }
      ]
    },
    {
      "cell_type": "markdown",
      "metadata": {
        "id": "i8hKD9VATBBs"
      },
      "source": [
        "Podemos visualizar más casos de entrenamiento donde nuestro modelo falla en su predicción"
      ]
    },
    {
      "cell_type": "code",
      "metadata": {
        "colab": {
          "base_uri": "https://localhost:8080/",
          "height": 268
        },
        "id": "HeWpePNMSvWS",
        "outputId": "6941487b-3d52-42ca-f21a-b069f18e59ac"
      },
      "source": [
        "for i in range(9):\n",
        "\tplt.subplot(330 + 1 + i)\n",
        "\tplt.imshow(fallos_train[i], cmap=plt.get_cmap('Greys'))\n",
        "plt.show()"
      ],
      "execution_count": null,
      "outputs": [
        {
          "output_type": "display_data",
          "data": {
            "image/png": "[encoded data removed]",
            "text/plain": [
              "<Figure size 432x288 with 9 Axes>"
            ]
          },
          "metadata": {
            "needs_background": "light"
          }
        }
      ]
    },
    {
      "cell_type": "markdown",
      "metadata": {
        "id": "PH_vgYp-TPPR"
      },
      "source": [
        "Y podemos contabilizar para cada dígito los casos donde se producen errores de clasificación y cuáles son las dígitos predichos erróneamente, para saber con qué números tiene menor precisión nuestro modelo"
      ]
    },
    {
      "cell_type": "code",
      "metadata": {
        "colab": {
          "base_uri": "https://localhost:8080/"
        },
        "id": "rk6DOPxNJTxy",
        "outputId": "24eba1e0-4cd7-429c-d439-7366cddb55b6"
      },
      "source": [
        "from sklearn.metrics import confusion_matrix\n",
        "from sklearn.metrics import ConfusionMatrixDisplay\n",
        "labels = np.arange(10)\n",
        "cm = confusion_matrix(y_train, y_pred, labels=labels)\n",
        "print(cm)"
      ],
      "execution_count": null,
      "outputs": [
        {
          "output_type": "stream",
          "name": "stdout",
          "text": [
            "[[5922    0    0    0    0    0    1    0    0    0]\n",
            " [   0 6737    0    0    0    0    0    5    0    0]\n",
            " [   0    1 5954    1    1    0    0    1    0    0]\n",
            " [   0    0    2 6118    0    6    0    2    2    1]\n",
            " [   0    2    1    0 5833    0    1    1    1    3]\n",
            " [   1    1    0    3    0 5408    4    0    4    0]\n",
            " [   2    0    0    0    0    0 5914    0    2    0]\n",
            " [   0    4    2    0    0    0    0 6259    0    0]\n",
            " [   3    0    0    1    1    6    1    0 5839    0]\n",
            " [   7    0    0    0   16    4    0    7    6 5909]]\n"
          ]
        }
      ]
    },
    {
      "cell_type": "code",
      "metadata": {
        "colab": {
          "base_uri": "https://localhost:8080/",
          "height": 279
        },
        "id": "yZSib440UvNz",
        "outputId": "dc309ea3-92af-4096-e181-0974204342a2"
      },
      "source": [
        "disp = ConfusionMatrixDisplay(confusion_matrix=cm, display_labels=labels)\n",
        "disp.plot(cmap=plt.cm.Blues)\n",
        "plt.show()"
      ],
      "execution_count": null,
      "outputs": [
        {
          "output_type": "display_data",
          "data": {
            "image/png": "[encoded data removed]",
            "text/plain": [
              "<Figure size 432x288 with 2 Axes>"
            ]
          },
          "metadata": {
            "needs_background": "light"
          }
        }
      ]
    },
    {
      "cell_type": "markdown",
      "metadata": {
        "id": "adOGqKlje_Kg"
      },
      "source": [
        "#Ejercicio\n",
        "- ¿cuál es el dígito que genera el mayor número de errores?\n",
        "\n",
        "- ¿cuál es la predicción errónea más frecuente?"
      ]
    },
    {
      "cell_type": "markdown",
      "metadata": {
        "id": "htfvEw2Nsc2a"
      },
      "source": [
        "Sin embargo, hay mucho margen de mejora modificando los parámetros del modelo. Hay un envío de un concurso de reconocimiento de dígitos en Kaggle que alcanzó el 99,7% de precisión.\n",
        "Las técnicas que pueden aplicarse para mejorar el aprendizaje y obtener más precisión:\n",
        " - Mejorar el modelo (añadir o quitar capas: lo más complejo puede no ser lo óptimo)\n",
        " - Ajuste de parámetros. Tiene infinitas posibilidades y la experiencia en casos similares es la mejor guía\n",
        " - Ampliar los datos de entrenamiento. Conseguir más datos de entrenamiento es muchas veces costoso pero existen técnica para modificar las imágenes de entrenamiento con pequeñas variaciones (Data Augmentation).  La tarea es crear diferentes versiones de la misma imagen mediante algunas manipulaciones aplicadas. ¿Por qué? Porque un modelo de aprendizaje profundo requiere muchas muestras de entrenamiento, y el aumento ayuda a incrementar el tamaño del conjunto de entrenamiento con mayor diversidad de muestras.\n",
        "Las técnicas más aplicadas son:\n",
        "- Rotación de la imagen\n",
        "- Traslación de la imagen\n",
        "- Recorte\n",
        "- Cambio de escala\n",
        "- Cambio de intensidad\n",
        "- Adición de ruido\n",
        "- Mejora de la imagen\n",
        "- Filtado de la imagen\n"
      ]
    },
    {
      "cell_type": "markdown",
      "metadata": {
        "id": "jL5fgaYPtSgj"
      },
      "source": [
        "##Prueba con dígitos escritos a mano\n",
        "Ahora que el modelo está listo, utilicemos una imagen personalizada para evaluar el rendimiento del modelo. He alojado un dígito personalizado de 28 × 28 en Imgur. Primero, leamos la imagen usando la biblioteca de imágenes y exploremos cómo se ven los datos de entrada:"
      ]
    },
    {
      "cell_type": "code",
      "metadata": {
        "id": "OXWf-2hgtZOh"
      },
      "source": [
        "import imageio\n",
        "import numpy as np\n",
        "from matplotlib import pyplot as plt\n",
        "\n",
        "im = imageio.imread(\"https://i.imgur.com/a3Rql9C.png\")"
      ],
      "execution_count": null,
      "outputs": []
    },
    {
      "cell_type": "markdown",
      "metadata": {
        "id": "OCPIwqMjtiry"
      },
      "source": [
        "A continuación, convierta los valores RGB a escala de grises. Luego podemos usar el método .imshow () como se exploró anteriormente para mostrar la imagen:"
      ]
    },
    {
      "cell_type": "code",
      "metadata": {
        "colab": {
          "base_uri": "https://localhost:8080/"
        },
        "id": "9qgKTxf7tmXj",
        "outputId": "0e2e90da-5f37-4375-fa37-29355e5c4284"
      },
      "source": [
        "gray = np.dot(im[...,:3], [0.299, 0.587, 0.114])\n",
        "plt.imshow(gray, cmap = plt.get_cmap('gray'))\n",
        "plt.show()"
      ],
      "execution_count": null,
      "outputs": [
        {
          "output_type": "display_data",
          "data": {
            "image/png": "[encoded data removed]",
            "text/plain": [
              "<Figure size 432x288 with 1 Axes>"
            ]
          },
          "metadata": {
            "needs_background": "light"
          }
        }
      ]
    },
    {
      "cell_type": "markdown",
      "metadata": {
        "id": "1X0Vo1kQtwFK"
      },
      "source": [
        "A continuación, cambie la forma de la imagen y normalice los valores para que esté lista para usarse en el modelo que acabamos de crear:"
      ]
    },
    {
      "cell_type": "code",
      "metadata": {
        "id": "OCHMSHpetcBy"
      },
      "source": [
        "# reshape and normalize imagethe image\n",
        "gray = gray.reshape(1, img_rows, img_cols, 1) / 255\n"
      ],
      "execution_count": null,
      "outputs": []
    },
    {
      "cell_type": "markdown",
      "metadata": {
        "id": "-YIsr-GpuAxD"
      },
      "source": [
        "Cargue el modelo del archivo guardado usando la función load_model () y prediga el dígito usando el método .predict ():"
      ]
    },
    {
      "cell_type": "code",
      "metadata": {
        "id": "3l6uu9xnuHJr",
        "colab": {
          "base_uri": "https://localhost:8080/"
        },
        "outputId": "fa25eb28-fb3f-4710-e2e6-62c86ad3e849"
      },
      "source": [
        "# load the model\n",
        "from keras.models import load_model\n",
        "model = load_model(\"test_model.h5\")\n",
        "\n",
        "# predict digit\n",
        "prediction = model.predict(gray)\n",
        "print(prediction.argmax())"
      ],
      "execution_count": null,
      "outputs": [
        {
          "output_type": "stream",
          "name": "stdout",
          "text": [
            "5\n"
          ]
        }
      ]
    },
    {
      "cell_type": "markdown",
      "metadata": {
        "id": "0jWwULdBDNDS"
      },
      "source": [
        "Podemos ver que la predicción consiste en un array de 10 probabilidades donde escogemos el valor mayor como dígito más probable"
      ]
    },
    {
      "cell_type": "code",
      "metadata": {
        "id": "JXlyaqIUDiQ6",
        "colab": {
          "base_uri": "https://localhost:8080/"
        },
        "outputId": "e41c5fda-13b1-4289-ad60-14817f676c85"
      },
      "source": [
        "print(prediction)"
      ],
      "execution_count": null,
      "outputs": [
        {
          "output_type": "stream",
          "name": "stdout",
          "text": [
            "[[1.3247344e-05 5.4056166e-08 3.8893765e-04 4.4701952e-01 4.4752201e-12\n",
            "  5.5211544e-01 2.1486840e-05 1.1434588e-04 3.2517049e-04 1.7734454e-06]]\n"
          ]
        }
      ]
    },
    {
      "cell_type": "code",
      "metadata": {
        "id": "jdFWQ1JeDpH6",
        "colab": {
          "base_uri": "https://localhost:8080/"
        },
        "outputId": "b1fb6bb0-b272-4a9f-fda0-19ffa9a292df"
      },
      "source": [
        "print(prediction.round(1))"
      ],
      "execution_count": null,
      "outputs": [
        {
          "output_type": "stream",
          "name": "stdout",
          "text": [
            "[[0.  0.  0.  0.4 0.  0.6 0.  0.  0.  0. ]]\n"
          ]
        }
      ]
    },
    {
      "cell_type": "code",
      "metadata": {
        "colab": {
          "base_uri": "https://localhost:8080/"
        },
        "id": "HBiVttk9WHeZ",
        "outputId": "f4ab6732-51f8-46fb-f12a-93aca465e96d"
      },
      "source": [
        "print(prediction.argmax())"
      ],
      "execution_count": null,
      "outputs": [
        {
          "output_type": "stream",
          "name": "stdout",
          "text": [
            "5\n"
          ]
        }
      ]
    },
    {
      "cell_type": "markdown",
      "metadata": {
        "id": "3wnjmFKDuOCE"
      },
      "source": [
        "El modelo predice correctamente el dígito que se muestra en la imagen:"
      ]
    },
    {
      "cell_type": "markdown",
      "metadata": {
        "id": "wb4C2dqOuXdL"
      },
      "source": [
        "\n",
        "En este ejemplo hemos creado una red neuronal con Keras usando el back-end de TensorFlow para clasificar dígitos escritos a mano. Aunque alcanzamos una precisión del 99%, todavía hay oportunidades de mejora. También aprendimos cómo clasificar dígitos escritos a mano personalizados, que no formaban parte del conjunto de datos de prueba. Este tutorial, sin embargo, acaba de arañar la superficie del campo de las redes neuronales artificiales. Existen infinitos usos para las redes neuronales que solo están limitados por nuestra imaginación."
      ]
    },
    {
      "cell_type": "markdown",
      "metadata": {
        "id": "P1z1-FwYwRNL"
      },
      "source": [
        "\n",
        "##Fuentes\n",
        "https://www.sitepoint.com/keras-digit-recognition-tutorial/\n",
        "\n",
        "https://machinelearningmastery.com/how-to-develop-a-convolutional-neural-network-from-scratch-for-mnist-handwritten-digit-classification/"
      ]
    }
  ]
}