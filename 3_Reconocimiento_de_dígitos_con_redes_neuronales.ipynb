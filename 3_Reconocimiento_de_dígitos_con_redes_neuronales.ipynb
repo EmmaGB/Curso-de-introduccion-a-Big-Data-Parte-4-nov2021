{
  "nbformat": 4,
  "nbformat_minor": 0,
  "metadata": {
    "colab": {
      "name": "3_Reconocimiento_de_dígitos_con_redes_neuronales.ipynb",
      "provenance": [],
      "include_colab_link": true
    },
    "kernelspec": {
      "name": "python3",
      "display_name": "Python 3"
    },
    "language_info": {
      "name": "python"
    }
  },
  "cells": [
    {
      "cell_type": "markdown",
      "metadata": {
        "id": "view-in-github",
        "colab_type": "text"
      },
      "source": [
        "<a href=\"https://colab.research.google.com/github/alberto1971/Curso-de-introduccion-a-Big-Data-Parte-4-nov2021/blob/main/3_Reconocimiento_de_d%C3%ADgitos_con_redes_neuronales.ipynb\" target=\"_parent\"><img src=\"https://colab.research.google.com/assets/colab-badge.svg\" alt=\"Open In Colab\"/></a>"
      ]
    },
    {
      "cell_type": "markdown",
      "metadata": {
        "id": "kuMVPAlR35EC"
      },
      "source": [
        "#El Dataset MNIST \n",
        "\n",
        "El problema de clasificación de dígitos manuscritos del MNIST es un conjunto de datos estándar que se utiliza en visión artificial y aprendizaje profundo.\n",
        "\n",
        "Como ya se habrá dado cuenta, necesitamos datos etiquetados para entrenar cualquier modelo. En este ejemplo, usaremos el conjunto de datos MNIST de dígitos escritos a mano. Este conjunto de datos es parte del paquete Keras. Contiene un conjunto de entrenamiento de 60.000 ejemplos y un conjunto de prueba de 10.000 ejemplos. Entrenaremos los datos en el conjunto de entrenamiento y validaremos los resultados en función de los datos de la prueba. Además, crearemos una imagen propia para probar si el modelo puede predecirla correctamente.\n",
        "\n",
        "Primero, importemos el conjunto de datos MNIST de Keras. El método .load_data () devuelve los conjuntos de datos de entrenamiento y prueba:"
      ]
    },
    {
      "cell_type": "code",
      "metadata": {
        "id": "2NxtNYnMwG7H",
        "outputId": "5b2b74f0-69da-456b-e4d3-eb4ba500629e",
        "colab": {
          "base_uri": "https://localhost:8080/"
        }
      },
      "source": [
        "from keras.datasets import mnist\n",
        "\n",
        "(x_train, y_train), (x_test, y_test) = mnist.load_data()"
      ],
      "execution_count": 1,
      "outputs": [
        {
          "output_type": "stream",
          "name": "stdout",
          "text": [
            "Downloading data from https://storage.googleapis.com/tensorflow/tf-keras-datasets/mnist.npz\n",
            "11493376/11490434 [==============================] - 0s 0us/step\n",
            "11501568/11490434 [==============================] - 0s 0us/step\n"
          ]
        }
      ]
    },
    {
      "cell_type": "markdown",
      "metadata": {
        "id": "lJoId7_unltw"
      },
      "source": [
        "Si intentamos visualizar una de las imágenes como datos el aspecto sería el siguiente:"
      ]
    },
    {
      "cell_type": "code",
      "metadata": {
        "colab": {
          "base_uri": "https://localhost:8080/"
        },
        "id": "95RA_rb3nd_R",
        "outputId": "9a3be743-beb9-4b89-fbc9-e2ab66145c28"
      },
      "source": [
        "x_train[0]"
      ],
      "execution_count": 2,
      "outputs": [
        {
          "output_type": "execute_result",
          "data": {
            "text/plain": [
              "array([[  0,   0,   0,   0,   0,   0,   0,   0,   0,   0,   0,   0,   0,\n",
              "          0,   0,   0,   0,   0,   0,   0,   0,   0,   0,   0,   0,   0,\n",
              "          0,   0],\n",
              "       [  0,   0,   0,   0,   0,   0,   0,   0,   0,   0,   0,   0,   0,\n",
              "          0,   0,   0,   0,   0,   0,   0,   0,   0,   0,   0,   0,   0,\n",
              "          0,   0],\n",
              "       [  0,   0,   0,   0,   0,   0,   0,   0,   0,   0,   0,   0,   0,\n",
              "          0,   0,   0,   0,   0,   0,   0,   0,   0,   0,   0,   0,   0,\n",
              "          0,   0],\n",
              "       [  0,   0,   0,   0,   0,   0,   0,   0,   0,   0,   0,   0,   0,\n",
              "          0,   0,   0,   0,   0,   0,   0,   0,   0,   0,   0,   0,   0,\n",
              "          0,   0],\n",
              "       [  0,   0,   0,   0,   0,   0,   0,   0,   0,   0,   0,   0,   0,\n",
              "          0,   0,   0,   0,   0,   0,   0,   0,   0,   0,   0,   0,   0,\n",
              "          0,   0],\n",
              "       [  0,   0,   0,   0,   0,   0,   0,   0,   0,   0,   0,   0,   3,\n",
              "         18,  18,  18, 126, 136, 175,  26, 166, 255, 247, 127,   0,   0,\n",
              "          0,   0],\n",
              "       [  0,   0,   0,   0,   0,   0,   0,   0,  30,  36,  94, 154, 170,\n",
              "        253, 253, 253, 253, 253, 225, 172, 253, 242, 195,  64,   0,   0,\n",
              "          0,   0],\n",
              "       [  0,   0,   0,   0,   0,   0,   0,  49, 238, 253, 253, 253, 253,\n",
              "        253, 253, 253, 253, 251,  93,  82,  82,  56,  39,   0,   0,   0,\n",
              "          0,   0],\n",
              "       [  0,   0,   0,   0,   0,   0,   0,  18, 219, 253, 253, 253, 253,\n",
              "        253, 198, 182, 247, 241,   0,   0,   0,   0,   0,   0,   0,   0,\n",
              "          0,   0],\n",
              "       [  0,   0,   0,   0,   0,   0,   0,   0,  80, 156, 107, 253, 253,\n",
              "        205,  11,   0,  43, 154,   0,   0,   0,   0,   0,   0,   0,   0,\n",
              "          0,   0],\n",
              "       [  0,   0,   0,   0,   0,   0,   0,   0,   0,  14,   1, 154, 253,\n",
              "         90,   0,   0,   0,   0,   0,   0,   0,   0,   0,   0,   0,   0,\n",
              "          0,   0],\n",
              "       [  0,   0,   0,   0,   0,   0,   0,   0,   0,   0,   0, 139, 253,\n",
              "        190,   2,   0,   0,   0,   0,   0,   0,   0,   0,   0,   0,   0,\n",
              "          0,   0],\n",
              "       [  0,   0,   0,   0,   0,   0,   0,   0,   0,   0,   0,  11, 190,\n",
              "        253,  70,   0,   0,   0,   0,   0,   0,   0,   0,   0,   0,   0,\n",
              "          0,   0],\n",
              "       [  0,   0,   0,   0,   0,   0,   0,   0,   0,   0,   0,   0,  35,\n",
              "        241, 225, 160, 108,   1,   0,   0,   0,   0,   0,   0,   0,   0,\n",
              "          0,   0],\n",
              "       [  0,   0,   0,   0,   0,   0,   0,   0,   0,   0,   0,   0,   0,\n",
              "         81, 240, 253, 253, 119,  25,   0,   0,   0,   0,   0,   0,   0,\n",
              "          0,   0],\n",
              "       [  0,   0,   0,   0,   0,   0,   0,   0,   0,   0,   0,   0,   0,\n",
              "          0,  45, 186, 253, 253, 150,  27,   0,   0,   0,   0,   0,   0,\n",
              "          0,   0],\n",
              "       [  0,   0,   0,   0,   0,   0,   0,   0,   0,   0,   0,   0,   0,\n",
              "          0,   0,  16,  93, 252, 253, 187,   0,   0,   0,   0,   0,   0,\n",
              "          0,   0],\n",
              "       [  0,   0,   0,   0,   0,   0,   0,   0,   0,   0,   0,   0,   0,\n",
              "          0,   0,   0,   0, 249, 253, 249,  64,   0,   0,   0,   0,   0,\n",
              "          0,   0],\n",
              "       [  0,   0,   0,   0,   0,   0,   0,   0,   0,   0,   0,   0,   0,\n",
              "          0,  46, 130, 183, 253, 253, 207,   2,   0,   0,   0,   0,   0,\n",
              "          0,   0],\n",
              "       [  0,   0,   0,   0,   0,   0,   0,   0,   0,   0,   0,   0,  39,\n",
              "        148, 229, 253, 253, 253, 250, 182,   0,   0,   0,   0,   0,   0,\n",
              "          0,   0],\n",
              "       [  0,   0,   0,   0,   0,   0,   0,   0,   0,   0,  24, 114, 221,\n",
              "        253, 253, 253, 253, 201,  78,   0,   0,   0,   0,   0,   0,   0,\n",
              "          0,   0],\n",
              "       [  0,   0,   0,   0,   0,   0,   0,   0,  23,  66, 213, 253, 253,\n",
              "        253, 253, 198,  81,   2,   0,   0,   0,   0,   0,   0,   0,   0,\n",
              "          0,   0],\n",
              "       [  0,   0,   0,   0,   0,   0,  18, 171, 219, 253, 253, 253, 253,\n",
              "        195,  80,   9,   0,   0,   0,   0,   0,   0,   0,   0,   0,   0,\n",
              "          0,   0],\n",
              "       [  0,   0,   0,   0,  55, 172, 226, 253, 253, 253, 253, 244, 133,\n",
              "         11,   0,   0,   0,   0,   0,   0,   0,   0,   0,   0,   0,   0,\n",
              "          0,   0],\n",
              "       [  0,   0,   0,   0, 136, 253, 253, 253, 212, 135, 132,  16,   0,\n",
              "          0,   0,   0,   0,   0,   0,   0,   0,   0,   0,   0,   0,   0,\n",
              "          0,   0],\n",
              "       [  0,   0,   0,   0,   0,   0,   0,   0,   0,   0,   0,   0,   0,\n",
              "          0,   0,   0,   0,   0,   0,   0,   0,   0,   0,   0,   0,   0,\n",
              "          0,   0],\n",
              "       [  0,   0,   0,   0,   0,   0,   0,   0,   0,   0,   0,   0,   0,\n",
              "          0,   0,   0,   0,   0,   0,   0,   0,   0,   0,   0,   0,   0,\n",
              "          0,   0],\n",
              "       [  0,   0,   0,   0,   0,   0,   0,   0,   0,   0,   0,   0,   0,\n",
              "          0,   0,   0,   0,   0,   0,   0,   0,   0,   0,   0,   0,   0,\n",
              "          0,   0]], dtype=uint8)"
            ]
          },
          "metadata": {},
          "execution_count": 2
        }
      ]
    },
    {
      "cell_type": "markdown",
      "metadata": {
        "id": "IunnQLQ64Obs"
      },
      "source": [
        "Intentemos visualizar los dígitos en el conjunto de datos. Usamos la siguiente función mágica para mostrar diagramas de Matplotlib en línea:"
      ]
    },
    {
      "cell_type": "code",
      "metadata": {
        "id": "m1_K-VcD4Njj"
      },
      "source": [
        "%matplotlib inline"
      ],
      "execution_count": 3,
      "outputs": []
    },
    {
      "cell_type": "markdown",
      "metadata": {
        "id": "CKLCuHws4e34"
      },
      "source": [
        "A continuación, importamos el módulo pyplot de matplotlib y usamos el método .imshow () para mostrar la imagen:"
      ]
    },
    {
      "cell_type": "code",
      "metadata": {
        "colab": {
          "base_uri": "https://localhost:8080/",
          "height": 283
        },
        "id": "Vibsrn5_4Uyd",
        "outputId": "d077fb9c-e591-4e31-a7df-911ec2788c2a"
      },
      "source": [
        "import matplotlib.pyplot as plt\n",
        "\n",
        "image_index = 35\n",
        "print(\"La etiqueta de la imagen es:\", y_train[image_index])\n",
        "plt.imshow(x_train[image_index], cmap='Greys')\n",
        "plt.show()"
      ],
      "execution_count": 4,
      "outputs": [
        {
          "output_type": "stream",
          "name": "stdout",
          "text": [
            "La etiqueta de la imagen es: 5\n"
          ]
        },
        {
          "output_type": "display_data",
          "data": {
            "image/png": "[encoded data removed]",
            "text/plain": [
              "<Figure size 432x288 with 1 Axes>"
            ]
          },
          "metadata": {
            "needs_background": "light"
          }
        }
      ]
    },
    {
      "cell_type": "markdown",
      "metadata": {
        "id": "1gWYES7v4vTu"
      },
      "source": [
        "Se imprime la etiqueta de la imagen y luego se muestra la imagen. Podemos observar que para cada pixel, el valor 0 representa el blanco y el valor 255 representa el color negro, y los valores intermedios entre 0 y 255 representan todos los tonos grises entre el blanco y el negro."
      ]
    },
    {
      "cell_type": "markdown",
      "metadata": {
        "id": "owgRB8eF5K7P"
      },
      "source": [
        "Verifiquemos los tamaños de los conjuntos de datos de entrenamiento y prueba:\n"
      ]
    },
    {
      "cell_type": "code",
      "metadata": {
        "colab": {
          "base_uri": "https://localhost:8080/"
        },
        "id": "ZzK9fUlr5eq3",
        "outputId": "5ef487d3-f3c4-411e-b250-f9b639a70233"
      },
      "source": [
        "print(x_train.shape)\n",
        "print(x_test.shape)"
      ],
      "execution_count": 5,
      "outputs": [
        {
          "output_type": "stream",
          "name": "stdout",
          "text": [
            "(60000, 28, 28)\n",
            "(10000, 28, 28)\n"
          ]
        }
      ]
    },
    {
      "cell_type": "markdown",
      "metadata": {
        "id": "Hm_-gSnd5NR8"
      },
      "source": [
        "Observamos que tenemos 60.000 imágenes de entrenamiento y 10.000 de test, y que cada imagen tiene las dimensiones 28 x 28 pixels\n",
        "\n",
        "Podemos visualizar unas cuantas imágenes de dígitos"
      ]
    },
    {
      "cell_type": "code",
      "metadata": {
        "colab": {
          "base_uri": "https://localhost:8080/",
          "height": 268
        },
        "id": "u8o26SiG8nMY",
        "outputId": "47b7e0a2-b045-44fe-f36f-865db7e7e10d"
      },
      "source": [
        "# plot first few images\n",
        "#from matplotlib import pyplot\n",
        "for i in range(9):\n",
        "\t# define subplot\n",
        "\tplt.subplot(330 + 1 + i)\n",
        "\t# plot raw pixel data\n",
        "\tplt.imshow(x_train[i], cmap=plt.get_cmap('Greys'))\n",
        "# show the figure\n",
        "plt.show()"
      ],
      "execution_count": 6,
      "outputs": [
        {
          "output_type": "display_data",
          "data": {
            "image/png": "[encoded data removed]",
            "text/plain": [
              "<Figure size 432x288 with 9 Axes>"
            ]
          },
          "metadata": {
            "needs_background": "light"
          }
        }
      ]
    },
    {
      "cell_type": "markdown",
      "metadata": {
        "id": "BXsG8lSs57OW"
      },
      "source": [
        "A continuación, es posible que también deseemos explorar la variable dependiente, almacenada en y_train, que llamamos etiquetas. Podemos ver como se corresponden las etiquetas con las imágenes anteriores "
      ]
    },
    {
      "cell_type": "code",
      "metadata": {
        "colab": {
          "base_uri": "https://localhost:8080/"
        },
        "id": "gU1X9ode569Y",
        "outputId": "2b07137c-1f72-4361-f44d-677270e5edeb"
      },
      "source": [
        "print(y_train[0:3])\n",
        "print(y_train[3:6])\n",
        "print(y_train[6:9])\n",
        "#print(y_train[:image_index + 1])"
      ],
      "execution_count": 7,
      "outputs": [
        {
          "output_type": "stream",
          "name": "stdout",
          "text": [
            "[5 0 4]\n",
            "[1 9 2]\n",
            "[1 3 1]\n"
          ]
        }
      ]
    },
    {
      "cell_type": "markdown",
      "metadata": {
        "id": "cjSRayDUBMIZ"
      },
      "source": [
        "Veamos cuántas imágenes tenemos de cada dígito"
      ]
    },
    {
      "cell_type": "code",
      "metadata": {
        "colab": {
          "base_uri": "https://localhost:8080/"
        },
        "id": "m5y_Ky9zBTlw",
        "outputId": "276a0851-6115-487c-9a0a-9c12c4735601"
      },
      "source": [
        "import numpy as np\n",
        "\n",
        "digitos, cantidad = np.unique(y_train, return_counts=True)\n",
        "\n",
        "print (np.asarray((digitos, cantidad)).T)"
      ],
      "execution_count": 8,
      "outputs": [
        {
          "output_type": "stream",
          "name": "stdout",
          "text": [
            "[[   0 5923]\n",
            " [   1 6742]\n",
            " [   2 5958]\n",
            " [   3 6131]\n",
            " [   4 5842]\n",
            " [   5 5421]\n",
            " [   6 5918]\n",
            " [   7 6265]\n",
            " [   8 5851]\n",
            " [   9 5949]]\n"
          ]
        }
      ]
    },
    {
      "cell_type": "code",
      "metadata": {
        "colab": {
          "base_uri": "https://localhost:8080/",
          "height": 284
        },
        "id": "Xikey5Z4Cqr-",
        "outputId": "9060347a-2a81-49ad-88cb-e3f59a02288b"
      },
      "source": [
        "plt.bar(digitos, cantidad)"
      ],
      "execution_count": 9,
      "outputs": [
        {
          "output_type": "execute_result",
          "data": {
            "text/plain": [
              "<BarContainer object of 10 artists>"
            ]
          },
          "metadata": {},
          "execution_count": 9
        },
        {
          "output_type": "display_data",
          "data": {
            "image/png": "[encoded data removed]",
            "text/plain": [
              "<Figure size 432x288 with 1 Axes>"
            ]
          },
          "metadata": {
            "needs_background": "light"
          }
        }
      ]
    },
    {
      "cell_type": "markdown",
      "metadata": {
        "id": "ysS1df146OWu"
      },
      "source": [
        "##Limpieza de datos\n",
        "Ahora que hemos visto la estructura de los datos, trabajemos más en ella antes de crear el modelo.\n",
        "\n",
        "Para trabajar con la API de Keras, necesitamos remodelar cada imagen al formato de (M x N x 1). Usaremos el método .reshape () para realizar esta acción. Finalmente, normalizamos los datos de la imagen dividiendo cada valor de píxel por 255 (ya que los valores RGB pueden oscilar entre 0 y 255):"
      ]
    },
    {
      "cell_type": "code",
      "metadata": {
        "id": "PUG1BIZG4n3u",
        "colab": {
          "base_uri": "https://localhost:8080/"
        },
        "outputId": "cdfacd70-bca9-4939-e5f6-57f211a23207"
      },
      "source": [
        "# save input image dimensions\n",
        "img_rows, img_cols = 28, 28\n",
        "\n",
        "x_train = x_train.reshape(x_train.shape[0], img_rows, img_cols, 1) / 255\n",
        "x_test = x_test.reshape(x_test.shape[0], img_rows, img_cols, 1) / 255\n",
        "\n",
        "print(x_train.shape)\n",
        "print(x_test.shape)\n"
      ],
      "execution_count": 10,
      "outputs": [
        {
          "output_type": "stream",
          "name": "stdout",
          "text": [
            "(60000, 28, 28, 1)\n",
            "(10000, 28, 28, 1)\n"
          ]
        }
      ]
    },
    {
      "cell_type": "markdown",
      "metadata": {
        "id": "0041waLd6wX6"
      },
      "source": [
        "A continuación, necesitamos convertir la variable dependiente en forma de números enteros en una matriz de clase binaria. Esto se puede lograr mediante la función to_categorical ():"
      ]
    },
    {
      "cell_type": "code",
      "metadata": {
        "colab": {
          "base_uri": "https://localhost:8080/"
        },
        "id": "SGybt0Kr63zM",
        "outputId": "ccf38014-bbfa-4745-e920-07e252563957"
      },
      "source": [
        "from tensorflow.keras.utils import to_categorical\n",
        "num_classes = 10\n",
        "\n",
        "y_train = to_categorical(y_train, num_classes)\n",
        "y_test = to_categorical(y_test, num_classes)\n",
        "\n",
        "print(y_train.shape)\n",
        "print(y_test.shape)"
      ],
      "execution_count": 11,
      "outputs": [
        {
          "output_type": "stream",
          "name": "stdout",
          "text": [
            "(60000, 10)\n",
            "(10000, 10)\n"
          ]
        }
      ]
    },
    {
      "cell_type": "markdown",
      "metadata": {
        "id": "8DEWX1oU7Atl"
      },
      "source": [
        "¡Ahora estamos listos para crear el modelo y entrenarlo!"
      ]
    },
    {
      "cell_type": "markdown",
      "metadata": {
        "id": "so1-dYXkp_vS"
      },
      "source": [
        "##Diseñar un modelo\n",
        "El proceso de diseño del modelo es el factor más complejo y tiene un impacto directo en el rendimiento del modelo. Para este tutorial, usaremos este diseño de la documentación de Keras.\n",
        "\n",
        "Para crear el modelo, primero inicializamos un modelo secuencial. Crea un objeto modelo vacío. El primer paso es agregar una capa convolucional, que toma la imagen de entrada:"
      ]
    },
    {
      "cell_type": "code",
      "metadata": {
        "id": "R-R4kycFqG8x"
      },
      "source": [
        "from keras.models import Sequential\n",
        "from keras.layers import Dense, Dropout, Flatten, Conv2D, MaxPooling2D\n",
        "\n",
        "model = Sequential()\n",
        "model.add(Conv2D(32, kernel_size=(3, 3),\n",
        "     activation='relu',\n",
        "     input_shape=(img_rows, img_cols, 1)))"
      ],
      "execution_count": 12,
      "outputs": []
    },
    {
      "cell_type": "markdown",
      "metadata": {
        "id": "La6N5yZgqS-h"
      },
      "source": [
        "Una activación relu significa \"Unidades lineales rectificadas\", que toma el máximo de un valor o cero. A continuación, agregamos otra capa convolucional, seguida de una capa de agrupación:"
      ]
    },
    {
      "cell_type": "code",
      "metadata": {
        "id": "TfgCAaa1qY0Q"
      },
      "source": [
        "model.add(Conv2D(64, (3, 3), activation='relu'))\n",
        "model.add(MaxPooling2D(pool_size=(2, 2)))"
      ],
      "execution_count": 13,
      "outputs": []
    },
    {
      "cell_type": "markdown",
      "metadata": {
        "id": "mLlZ9gfJqgno"
      },
      "source": [
        "\n",
        "A continuación, agregamos una capa de \"abandono\". Si bien las redes neuronales se entrenan en enormes conjuntos de datos, puede ocurrir un problema de sobreajuste. Para evitar este problema, dejamos caer unidades y sus conexiones al azar durante el proceso de entrenamiento. En este caso, eliminaremos el 25% de las unidades: "
      ]
    },
    {
      "cell_type": "code",
      "metadata": {
        "id": "IyxVDs6W6aDl"
      },
      "source": [
        "model.add(Dropout(0.25))"
      ],
      "execution_count": 14,
      "outputs": []
    },
    {
      "cell_type": "markdown",
      "metadata": {
        "id": "lKJVq9gFqtGJ"
      },
      "source": [
        "A continuación, agregamos una capa de aplanamiento para convertir la capa oculta anterior en una matriz 1D:"
      ]
    },
    {
      "cell_type": "code",
      "metadata": {
        "id": "jllrKmy6qytx"
      },
      "source": [
        "model.add(Flatten())"
      ],
      "execution_count": 15,
      "outputs": []
    },
    {
      "cell_type": "markdown",
      "metadata": {
        "id": "ey_pvV2eq6Tx"
      },
      "source": [
        "Una vez que hayamos aplanado los datos en una matriz 1D, podemos agregar una capa oculta densa, lo cual es normal para una red neuronal tradicional. A continuación, agregue otra capa de abandono antes de agregar una capa densa final que clasifica los datos: "
      ]
    },
    {
      "cell_type": "code",
      "metadata": {
        "id": "wo1bJ5KQq-sB"
      },
      "source": [
        "model.add(Dense(128, activation='relu'))\n",
        "model.add(Dropout(0.5))\n",
        "model.add(Dense(num_classes, activation='softmax'))"
      ],
      "execution_count": 16,
      "outputs": []
    },
    {
      "cell_type": "markdown",
      "metadata": {
        "id": "wLxIOxbTrFOB"
      },
      "source": [
        "La activación de softmax se utiliza cuando nos gustaría clasificar los datos en una serie de clases predeterminadas."
      ]
    },
    {
      "cell_type": "markdown",
      "metadata": {
        "id": "2Qs0eTNYxrfa"
      },
      "source": [
        "##Visualizar el modelo\n",
        "Podemos visualizar el modelo de CNN que hemos definido de dos formas:\n",
        "- En formato descriptivo de capas"
      ]
    },
    {
      "cell_type": "code",
      "metadata": {
        "id": "sZDliM4vx5KI",
        "colab": {
          "base_uri": "https://localhost:8080/"
        },
        "outputId": "a8c79096-40a6-44aa-e5b7-8d4853c6a922"
      },
      "source": [
        "print(model.summary())"
      ],
      "execution_count": 17,
      "outputs": [
        {
          "output_type": "stream",
          "name": "stdout",
          "text": [
            "Model: \"sequential\"\n",
            "_________________________________________________________________\n",
            " Layer (type)                Output Shape              Param #   \n",
            "=================================================================\n",
            " conv2d (Conv2D)             (None, 26, 26, 32)        320       \n",
            "                                                                 \n",
            " conv2d_1 (Conv2D)           (None, 24, 24, 64)        18496     \n",
            "                                                                 \n",
            " max_pooling2d (MaxPooling2D  (None, 12, 12, 64)       0         \n",
            " )                                                               \n",
            "                                                                 \n",
            " dropout (Dropout)           (None, 12, 12, 64)        0         \n",
            "                                                                 \n",
            " flatten (Flatten)           (None, 9216)              0         \n",
            "                                                                 \n",
            " dense (Dense)               (None, 128)               1179776   \n",
            "                                                                 \n",
            " dropout_1 (Dropout)         (None, 128)               0         \n",
            "                                                                 \n",
            " dense_1 (Dense)             (None, 10)                1290      \n",
            "                                                                 \n",
            "=================================================================\n",
            "Total params: 1,199,882\n",
            "Trainable params: 1,199,882\n",
            "Non-trainable params: 0\n",
            "_________________________________________________________________\n",
            "None\n"
          ]
        }
      ]
    },
    {
      "cell_type": "markdown",
      "metadata": {
        "id": "LLmN69IZx80B"
      },
      "source": [
        "- En diagrama de bloques"
      ]
    },
    {
      "cell_type": "code",
      "metadata": {
        "id": "GTI5nRDeyPz4",
        "colab": {
          "base_uri": "https://localhost:8080/",
          "height": 0
        },
        "outputId": "d7bfe00f-7ea4-473e-f148-e3decc26a88c"
      },
      "source": [
        "from keras.utils.vis_utils import plot_model\n",
        "plot_model(model, to_file='model_plot.png', show_shapes=True, show_layer_names=True)"
      ],
      "execution_count": 18,
      "outputs": [
        {
          "output_type": "execute_result",
          "data": {
            "image/png": "[encoded data removed]",
            "text/plain": [
              "<IPython.core.display.Image object>"
            ]
          },
          "metadata": {},
          "execution_count": 18
        }
      ]
    },
    {
      "cell_type": "markdown",
      "metadata": {
        "id": "Ofw-uuYGrM75"
      },
      "source": [
        "##Compilar y entrenar modelo\n",
        "En el proceso de diseño del modelo, creamos un modelo vacío sin una función objetivo. Necesitamos compilar el modelo y especificar una función de pérdida, una función de optimización y una métrica para evaluar el rendimiento del modelo.\n",
        "\n",
        "Necesitamos usar una función de pérdida sparse_categorical_crossentropy () en caso de que tengamos una variable dependiente de números enteros. Para una variable dependiente basada en vectores como una matriz de diez tamaños como la salida de cada caso de prueba, use categorical_crossentropy. En este ejemplo, usaremos adam optimizer. La métrica es la base para la evaluación del rendimiento de nuestro modelo, aunque es solo para nosotros juzgar y no se utiliza en el paso de formación:"
      ]
    },
    {
      "cell_type": "code",
      "metadata": {
        "id": "-E8gyQjorXUJ"
      },
      "source": [
        "model.compile(loss='categorical_crossentropy',\n",
        "      optimizer='adam',\n",
        "      metrics=['accuracy'])"
      ],
      "execution_count": 19,
      "outputs": []
    },
    {
      "cell_type": "markdown",
      "metadata": {
        "id": "iVm1lh50rdv6"
      },
      "source": [
        "Ahora estamos listos para entrenar el modelo con el método .fit(). Necesitamos especificar un epoch (número de iteraciones) y un batch (tamaño de lote) al entrenar el modelo. Un epoch es una iteración que consiste en un pase hacia adelante y un pase hacia atrás de todos los ejemplos de entrenamiento. Un batch o tamaño de lote es la cantidad de ejemplos de entrenamiento en una pasada hacia adelante o hacia atrás.\n",
        "\n",
        "Finalmente, guarde el modelo una vez que se complete el entrenamiento para usar sus resultados en una etapa posterior:"
      ]
    },
    {
      "cell_type": "code",
      "metadata": {
        "colab": {
          "base_uri": "https://localhost:8080/",
          "height": 450
        },
        "id": "IAAIVu0CsF7y",
        "outputId": "b130a5fe-0e73-4811-9a6d-62f7766804e4"
      },
      "source": [
        "batch_size = 128\n",
        "epochs = 4 #Valor recomendado 10\n",
        "\n",
        "history=model.fit(x_train, y_train,\n",
        "                  batch_size=batch_size,\n",
        "                  epochs=epochs,\n",
        "                  verbose=1,\n",
        "                  validation_data=(x_test, y_test))\n",
        "score = model.evaluate(x_test, y_test, verbose=0)\n",
        "print('Test loss:', score[0])\n",
        "print('Test accuracy:', score[1])\n",
        "model.save(\"test_model.h5\")"
      ],
      "execution_count": 20,
      "outputs": [
        {
          "output_type": "stream",
          "name": "stdout",
          "text": [
            "Epoch 1/10\n",
            "469/469 [==============================] - 144s 304ms/step - loss: 0.2455 - accuracy: 0.9248 - val_loss: 0.0525 - val_accuracy: 0.9832\n",
            "Epoch 2/10\n",
            "469/469 [==============================] - ETA: 0s - loss: 0.0856 - accuracy: 0.9743"
          ]
        },
        {
          "output_type": "error",
          "ename": "KeyboardInterrupt",
          "evalue": "ignored",
          "traceback": [
            "\u001b[0;31m---------------------------------------------------------------------------\u001b[0m",
            "\u001b[0;31mKeyboardInterrupt\u001b[0m                         Traceback (most recent call last)",
            "\u001b[0;32m<ipython-input-20-b08305e39810>\u001b[0m in \u001b[0;36m<module>\u001b[0;34m()\u001b[0m\n\u001b[1;32m      6\u001b[0m                   \u001b[0mepochs\u001b[0m\u001b[0;34m=\u001b[0m\u001b[0mepochs\u001b[0m\u001b[0;34m,\u001b[0m\u001b[0;34m\u001b[0m\u001b[0;34m\u001b[0m\u001b[0m\n\u001b[1;32m      7\u001b[0m                   \u001b[0mverbose\u001b[0m\u001b[0;34m=\u001b[0m\u001b[0;36m1\u001b[0m\u001b[0;34m,\u001b[0m\u001b[0;34m\u001b[0m\u001b[0;34m\u001b[0m\u001b[0m\n\u001b[0;32m----> 8\u001b[0;31m                   validation_data=(x_test, y_test))\n\u001b[0m\u001b[1;32m      9\u001b[0m \u001b[0mscore\u001b[0m \u001b[0;34m=\u001b[0m \u001b[0mmodel\u001b[0m\u001b[0;34m.\u001b[0m\u001b[0mevaluate\u001b[0m\u001b[0;34m(\u001b[0m\u001b[0mx_test\u001b[0m\u001b[0;34m,\u001b[0m \u001b[0my_test\u001b[0m\u001b[0;34m,\u001b[0m \u001b[0mverbose\u001b[0m\u001b[0;34m=\u001b[0m\u001b[0;36m0\u001b[0m\u001b[0;34m)\u001b[0m\u001b[0;34m\u001b[0m\u001b[0;34m\u001b[0m\u001b[0m\n\u001b[1;32m     10\u001b[0m \u001b[0mprint\u001b[0m\u001b[0;34m(\u001b[0m\u001b[0;34m'Test loss:'\u001b[0m\u001b[0;34m,\u001b[0m \u001b[0mscore\u001b[0m\u001b[0;34m[\u001b[0m\u001b[0;36m0\u001b[0m\u001b[0;34m]\u001b[0m\u001b[0;34m)\u001b[0m\u001b[0;34m\u001b[0m\u001b[0;34m\u001b[0m\u001b[0m\n",
            "\u001b[0;32m/usr/local/lib/python3.7/dist-packages/keras/utils/traceback_utils.py\u001b[0m in \u001b[0;36merror_handler\u001b[0;34m(*args, **kwargs)\u001b[0m\n\u001b[1;32m     62\u001b[0m     \u001b[0mfiltered_tb\u001b[0m \u001b[0;34m=\u001b[0m \u001b[0;32mNone\u001b[0m\u001b[0;34m\u001b[0m\u001b[0;34m\u001b[0m\u001b[0m\n\u001b[1;32m     63\u001b[0m     \u001b[0;32mtry\u001b[0m\u001b[0;34m:\u001b[0m\u001b[0;34m\u001b[0m\u001b[0;34m\u001b[0m\u001b[0m\n\u001b[0;32m---> 64\u001b[0;31m       \u001b[0;32mreturn\u001b[0m \u001b[0mfn\u001b[0m\u001b[0;34m(\u001b[0m\u001b[0;34m*\u001b[0m\u001b[0margs\u001b[0m\u001b[0;34m,\u001b[0m \u001b[0;34m**\u001b[0m\u001b[0mkwargs\u001b[0m\u001b[0;34m)\u001b[0m\u001b[0;34m\u001b[0m\u001b[0;34m\u001b[0m\u001b[0m\n\u001b[0m\u001b[1;32m     65\u001b[0m     \u001b[0;32mexcept\u001b[0m \u001b[0mException\u001b[0m \u001b[0;32mas\u001b[0m \u001b[0me\u001b[0m\u001b[0;34m:\u001b[0m  \u001b[0;31m# pylint: disable=broad-except\u001b[0m\u001b[0;34m\u001b[0m\u001b[0;34m\u001b[0m\u001b[0m\n\u001b[1;32m     66\u001b[0m       \u001b[0mfiltered_tb\u001b[0m \u001b[0;34m=\u001b[0m \u001b[0m_process_traceback_frames\u001b[0m\u001b[0;34m(\u001b[0m\u001b[0me\u001b[0m\u001b[0;34m.\u001b[0m\u001b[0m__traceback__\u001b[0m\u001b[0;34m)\u001b[0m\u001b[0;34m\u001b[0m\u001b[0;34m\u001b[0m\u001b[0m\n",
            "\u001b[0;32m/usr/local/lib/python3.7/dist-packages/keras/engine/training.py\u001b[0m in \u001b[0;36mfit\u001b[0;34m(self, x, y, batch_size, epochs, verbose, callbacks, validation_split, validation_data, shuffle, class_weight, sample_weight, initial_epoch, steps_per_epoch, validation_steps, validation_batch_size, validation_freq, max_queue_size, workers, use_multiprocessing)\u001b[0m\n\u001b[1;32m   1261\u001b[0m               \u001b[0muse_multiprocessing\u001b[0m\u001b[0;34m=\u001b[0m\u001b[0muse_multiprocessing\u001b[0m\u001b[0;34m,\u001b[0m\u001b[0;34m\u001b[0m\u001b[0;34m\u001b[0m\u001b[0m\n\u001b[1;32m   1262\u001b[0m               \u001b[0mreturn_dict\u001b[0m\u001b[0;34m=\u001b[0m\u001b[0;32mTrue\u001b[0m\u001b[0;34m,\u001b[0m\u001b[0;34m\u001b[0m\u001b[0;34m\u001b[0m\u001b[0m\n\u001b[0;32m-> 1263\u001b[0;31m               _use_cached_eval_dataset=True)\n\u001b[0m\u001b[1;32m   1264\u001b[0m           \u001b[0mval_logs\u001b[0m \u001b[0;34m=\u001b[0m \u001b[0;34m{\u001b[0m\u001b[0;34m'val_'\u001b[0m \u001b[0;34m+\u001b[0m \u001b[0mname\u001b[0m\u001b[0;34m:\u001b[0m \u001b[0mval\u001b[0m \u001b[0;32mfor\u001b[0m \u001b[0mname\u001b[0m\u001b[0;34m,\u001b[0m \u001b[0mval\u001b[0m \u001b[0;32min\u001b[0m \u001b[0mval_logs\u001b[0m\u001b[0;34m.\u001b[0m\u001b[0mitems\u001b[0m\u001b[0;34m(\u001b[0m\u001b[0;34m)\u001b[0m\u001b[0;34m}\u001b[0m\u001b[0;34m\u001b[0m\u001b[0;34m\u001b[0m\u001b[0m\n\u001b[1;32m   1265\u001b[0m           \u001b[0mepoch_logs\u001b[0m\u001b[0;34m.\u001b[0m\u001b[0mupdate\u001b[0m\u001b[0;34m(\u001b[0m\u001b[0mval_logs\u001b[0m\u001b[0;34m)\u001b[0m\u001b[0;34m\u001b[0m\u001b[0;34m\u001b[0m\u001b[0m\n",
            "\u001b[0;32m/usr/local/lib/python3.7/dist-packages/keras/utils/traceback_utils.py\u001b[0m in \u001b[0;36merror_handler\u001b[0;34m(*args, **kwargs)\u001b[0m\n\u001b[1;32m     62\u001b[0m     \u001b[0mfiltered_tb\u001b[0m \u001b[0;34m=\u001b[0m \u001b[0;32mNone\u001b[0m\u001b[0;34m\u001b[0m\u001b[0;34m\u001b[0m\u001b[0m\n\u001b[1;32m     63\u001b[0m     \u001b[0;32mtry\u001b[0m\u001b[0;34m:\u001b[0m\u001b[0;34m\u001b[0m\u001b[0;34m\u001b[0m\u001b[0m\n\u001b[0;32m---> 64\u001b[0;31m       \u001b[0;32mreturn\u001b[0m \u001b[0mfn\u001b[0m\u001b[0;34m(\u001b[0m\u001b[0;34m*\u001b[0m\u001b[0margs\u001b[0m\u001b[0;34m,\u001b[0m \u001b[0;34m**\u001b[0m\u001b[0mkwargs\u001b[0m\u001b[0;34m)\u001b[0m\u001b[0;34m\u001b[0m\u001b[0;34m\u001b[0m\u001b[0m\n\u001b[0m\u001b[1;32m     65\u001b[0m     \u001b[0;32mexcept\u001b[0m \u001b[0mException\u001b[0m \u001b[0;32mas\u001b[0m \u001b[0me\u001b[0m\u001b[0;34m:\u001b[0m  \u001b[0;31m# pylint: disable=broad-except\u001b[0m\u001b[0;34m\u001b[0m\u001b[0;34m\u001b[0m\u001b[0m\n\u001b[1;32m     66\u001b[0m       \u001b[0mfiltered_tb\u001b[0m \u001b[0;34m=\u001b[0m \u001b[0m_process_traceback_frames\u001b[0m\u001b[0;34m(\u001b[0m\u001b[0me\u001b[0m\u001b[0;34m.\u001b[0m\u001b[0m__traceback__\u001b[0m\u001b[0;34m)\u001b[0m\u001b[0;34m\u001b[0m\u001b[0;34m\u001b[0m\u001b[0m\n",
            "\u001b[0;32m/usr/local/lib/python3.7/dist-packages/keras/engine/training.py\u001b[0m in \u001b[0;36mevaluate\u001b[0;34m(self, x, y, batch_size, verbose, sample_weight, steps, callbacks, max_queue_size, workers, use_multiprocessing, return_dict, **kwargs)\u001b[0m\n\u001b[1;32m   1535\u001b[0m             \u001b[0;32mwith\u001b[0m \u001b[0mtf\u001b[0m\u001b[0;34m.\u001b[0m\u001b[0mprofiler\u001b[0m\u001b[0;34m.\u001b[0m\u001b[0mexperimental\u001b[0m\u001b[0;34m.\u001b[0m\u001b[0mTrace\u001b[0m\u001b[0;34m(\u001b[0m\u001b[0;34m'test'\u001b[0m\u001b[0;34m,\u001b[0m \u001b[0mstep_num\u001b[0m\u001b[0;34m=\u001b[0m\u001b[0mstep\u001b[0m\u001b[0;34m,\u001b[0m \u001b[0m_r\u001b[0m\u001b[0;34m=\u001b[0m\u001b[0;36m1\u001b[0m\u001b[0;34m)\u001b[0m\u001b[0;34m:\u001b[0m\u001b[0;34m\u001b[0m\u001b[0;34m\u001b[0m\u001b[0m\n\u001b[1;32m   1536\u001b[0m               \u001b[0mcallbacks\u001b[0m\u001b[0;34m.\u001b[0m\u001b[0mon_test_batch_begin\u001b[0m\u001b[0;34m(\u001b[0m\u001b[0mstep\u001b[0m\u001b[0;34m)\u001b[0m\u001b[0;34m\u001b[0m\u001b[0;34m\u001b[0m\u001b[0m\n\u001b[0;32m-> 1537\u001b[0;31m               \u001b[0mtmp_logs\u001b[0m \u001b[0;34m=\u001b[0m \u001b[0mself\u001b[0m\u001b[0;34m.\u001b[0m\u001b[0mtest_function\u001b[0m\u001b[0;34m(\u001b[0m\u001b[0miterator\u001b[0m\u001b[0;34m)\u001b[0m\u001b[0;34m\u001b[0m\u001b[0;34m\u001b[0m\u001b[0m\n\u001b[0m\u001b[1;32m   1538\u001b[0m               \u001b[0;32mif\u001b[0m \u001b[0mdata_handler\u001b[0m\u001b[0;34m.\u001b[0m\u001b[0mshould_sync\u001b[0m\u001b[0;34m:\u001b[0m\u001b[0;34m\u001b[0m\u001b[0;34m\u001b[0m\u001b[0m\n\u001b[1;32m   1539\u001b[0m                 \u001b[0mcontext\u001b[0m\u001b[0;34m.\u001b[0m\u001b[0masync_wait\u001b[0m\u001b[0;34m(\u001b[0m\u001b[0;34m)\u001b[0m\u001b[0;34m\u001b[0m\u001b[0;34m\u001b[0m\u001b[0m\n",
            "\u001b[0;32m/usr/local/lib/python3.7/dist-packages/tensorflow/python/util/traceback_utils.py\u001b[0m in \u001b[0;36merror_handler\u001b[0;34m(*args, **kwargs)\u001b[0m\n\u001b[1;32m    148\u001b[0m     \u001b[0mfiltered_tb\u001b[0m \u001b[0;34m=\u001b[0m \u001b[0;32mNone\u001b[0m\u001b[0;34m\u001b[0m\u001b[0;34m\u001b[0m\u001b[0m\n\u001b[1;32m    149\u001b[0m     \u001b[0;32mtry\u001b[0m\u001b[0;34m:\u001b[0m\u001b[0;34m\u001b[0m\u001b[0;34m\u001b[0m\u001b[0m\n\u001b[0;32m--> 150\u001b[0;31m       \u001b[0;32mreturn\u001b[0m \u001b[0mfn\u001b[0m\u001b[0;34m(\u001b[0m\u001b[0;34m*\u001b[0m\u001b[0margs\u001b[0m\u001b[0;34m,\u001b[0m \u001b[0;34m**\u001b[0m\u001b[0mkwargs\u001b[0m\u001b[0;34m)\u001b[0m\u001b[0;34m\u001b[0m\u001b[0;34m\u001b[0m\u001b[0m\n\u001b[0m\u001b[1;32m    151\u001b[0m     \u001b[0;32mexcept\u001b[0m \u001b[0mException\u001b[0m \u001b[0;32mas\u001b[0m \u001b[0me\u001b[0m\u001b[0;34m:\u001b[0m\u001b[0;34m\u001b[0m\u001b[0;34m\u001b[0m\u001b[0m\n\u001b[1;32m    152\u001b[0m       \u001b[0mfiltered_tb\u001b[0m \u001b[0;34m=\u001b[0m \u001b[0m_process_traceback_frames\u001b[0m\u001b[0;34m(\u001b[0m\u001b[0me\u001b[0m\u001b[0;34m.\u001b[0m\u001b[0m__traceback__\u001b[0m\u001b[0;34m)\u001b[0m\u001b[0;34m\u001b[0m\u001b[0;34m\u001b[0m\u001b[0m\n",
            "\u001b[0;32m/usr/local/lib/python3.7/dist-packages/tensorflow/python/eager/def_function.py\u001b[0m in \u001b[0;36m__call__\u001b[0;34m(self, *args, **kwds)\u001b[0m\n\u001b[1;32m    908\u001b[0m \u001b[0;34m\u001b[0m\u001b[0m\n\u001b[1;32m    909\u001b[0m       \u001b[0;32mwith\u001b[0m \u001b[0mOptionalXlaContext\u001b[0m\u001b[0;34m(\u001b[0m\u001b[0mself\u001b[0m\u001b[0;34m.\u001b[0m\u001b[0m_jit_compile\u001b[0m\u001b[0;34m)\u001b[0m\u001b[0;34m:\u001b[0m\u001b[0;34m\u001b[0m\u001b[0;34m\u001b[0m\u001b[0m\n\u001b[0;32m--> 910\u001b[0;31m         \u001b[0mresult\u001b[0m \u001b[0;34m=\u001b[0m \u001b[0mself\u001b[0m\u001b[0;34m.\u001b[0m\u001b[0m_call\u001b[0m\u001b[0;34m(\u001b[0m\u001b[0;34m*\u001b[0m\u001b[0margs\u001b[0m\u001b[0;34m,\u001b[0m \u001b[0;34m**\u001b[0m\u001b[0mkwds\u001b[0m\u001b[0;34m)\u001b[0m\u001b[0;34m\u001b[0m\u001b[0;34m\u001b[0m\u001b[0m\n\u001b[0m\u001b[1;32m    911\u001b[0m \u001b[0;34m\u001b[0m\u001b[0m\n\u001b[1;32m    912\u001b[0m       \u001b[0mnew_tracing_count\u001b[0m \u001b[0;34m=\u001b[0m \u001b[0mself\u001b[0m\u001b[0;34m.\u001b[0m\u001b[0mexperimental_get_tracing_count\u001b[0m\u001b[0;34m(\u001b[0m\u001b[0;34m)\u001b[0m\u001b[0;34m\u001b[0m\u001b[0;34m\u001b[0m\u001b[0m\n",
            "\u001b[0;32m/usr/local/lib/python3.7/dist-packages/tensorflow/python/eager/def_function.py\u001b[0m in \u001b[0;36m_call\u001b[0;34m(self, *args, **kwds)\u001b[0m\n\u001b[1;32m    947\u001b[0m       \u001b[0;31m# In this case we have not created variables on the first call. So we can\u001b[0m\u001b[0;34m\u001b[0m\u001b[0;34m\u001b[0m\u001b[0;34m\u001b[0m\u001b[0m\n\u001b[1;32m    948\u001b[0m       \u001b[0;31m# run the first trace but we should fail if variables are created.\u001b[0m\u001b[0;34m\u001b[0m\u001b[0;34m\u001b[0m\u001b[0;34m\u001b[0m\u001b[0m\n\u001b[0;32m--> 949\u001b[0;31m       \u001b[0mresults\u001b[0m \u001b[0;34m=\u001b[0m \u001b[0mself\u001b[0m\u001b[0;34m.\u001b[0m\u001b[0m_stateful_fn\u001b[0m\u001b[0;34m(\u001b[0m\u001b[0;34m*\u001b[0m\u001b[0margs\u001b[0m\u001b[0;34m,\u001b[0m \u001b[0;34m**\u001b[0m\u001b[0mkwds\u001b[0m\u001b[0;34m)\u001b[0m\u001b[0;34m\u001b[0m\u001b[0;34m\u001b[0m\u001b[0m\n\u001b[0m\u001b[1;32m    950\u001b[0m       \u001b[0;32mif\u001b[0m \u001b[0mself\u001b[0m\u001b[0;34m.\u001b[0m\u001b[0m_created_variables\u001b[0m \u001b[0;32mand\u001b[0m \u001b[0;32mnot\u001b[0m \u001b[0mALLOW_DYNAMIC_VARIABLE_CREATION\u001b[0m\u001b[0;34m:\u001b[0m\u001b[0;34m\u001b[0m\u001b[0;34m\u001b[0m\u001b[0m\n\u001b[1;32m    951\u001b[0m         raise ValueError(\"Creating variables on a non-first call to a function\"\n",
            "\u001b[0;32m/usr/local/lib/python3.7/dist-packages/tensorflow/python/eager/function.py\u001b[0m in \u001b[0;36m__call__\u001b[0;34m(self, *args, **kwargs)\u001b[0m\n\u001b[1;32m   3129\u001b[0m        filtered_flat_args) = self._maybe_define_function(args, kwargs)\n\u001b[1;32m   3130\u001b[0m     return graph_function._call_flat(\n\u001b[0;32m-> 3131\u001b[0;31m         filtered_flat_args, captured_inputs=graph_function.captured_inputs)  # pylint: disable=protected-access\n\u001b[0m\u001b[1;32m   3132\u001b[0m \u001b[0;34m\u001b[0m\u001b[0m\n\u001b[1;32m   3133\u001b[0m   \u001b[0;34m@\u001b[0m\u001b[0mproperty\u001b[0m\u001b[0;34m\u001b[0m\u001b[0;34m\u001b[0m\u001b[0m\n",
            "\u001b[0;32m/usr/local/lib/python3.7/dist-packages/tensorflow/python/eager/function.py\u001b[0m in \u001b[0;36m_call_flat\u001b[0;34m(self, args, captured_inputs, cancellation_manager)\u001b[0m\n\u001b[1;32m   1958\u001b[0m       \u001b[0;31m# No tape is watching; skip to running the function.\u001b[0m\u001b[0;34m\u001b[0m\u001b[0;34m\u001b[0m\u001b[0;34m\u001b[0m\u001b[0m\n\u001b[1;32m   1959\u001b[0m       return self._build_call_outputs(self._inference_function.call(\n\u001b[0;32m-> 1960\u001b[0;31m           ctx, args, cancellation_manager=cancellation_manager))\n\u001b[0m\u001b[1;32m   1961\u001b[0m     forward_backward = self._select_forward_and_backward_functions(\n\u001b[1;32m   1962\u001b[0m         \u001b[0margs\u001b[0m\u001b[0;34m,\u001b[0m\u001b[0;34m\u001b[0m\u001b[0;34m\u001b[0m\u001b[0m\n",
            "\u001b[0;32m/usr/local/lib/python3.7/dist-packages/tensorflow/python/eager/function.py\u001b[0m in \u001b[0;36mcall\u001b[0;34m(self, ctx, args, cancellation_manager)\u001b[0m\n\u001b[1;32m    601\u001b[0m               \u001b[0minputs\u001b[0m\u001b[0;34m=\u001b[0m\u001b[0margs\u001b[0m\u001b[0;34m,\u001b[0m\u001b[0;34m\u001b[0m\u001b[0;34m\u001b[0m\u001b[0m\n\u001b[1;32m    602\u001b[0m               \u001b[0mattrs\u001b[0m\u001b[0;34m=\u001b[0m\u001b[0mattrs\u001b[0m\u001b[0;34m,\u001b[0m\u001b[0;34m\u001b[0m\u001b[0;34m\u001b[0m\u001b[0m\n\u001b[0;32m--> 603\u001b[0;31m               ctx=ctx)\n\u001b[0m\u001b[1;32m    604\u001b[0m         \u001b[0;32melse\u001b[0m\u001b[0;34m:\u001b[0m\u001b[0;34m\u001b[0m\u001b[0;34m\u001b[0m\u001b[0m\n\u001b[1;32m    605\u001b[0m           outputs = execute.execute_with_cancellation(\n",
            "\u001b[0;32m/usr/local/lib/python3.7/dist-packages/tensorflow/python/eager/execute.py\u001b[0m in \u001b[0;36mquick_execute\u001b[0;34m(op_name, num_outputs, inputs, attrs, ctx, name)\u001b[0m\n\u001b[1;32m     57\u001b[0m     \u001b[0mctx\u001b[0m\u001b[0;34m.\u001b[0m\u001b[0mensure_initialized\u001b[0m\u001b[0;34m(\u001b[0m\u001b[0;34m)\u001b[0m\u001b[0;34m\u001b[0m\u001b[0;34m\u001b[0m\u001b[0m\n\u001b[1;32m     58\u001b[0m     tensors = pywrap_tfe.TFE_Py_Execute(ctx._handle, device_name, op_name,\n\u001b[0;32m---> 59\u001b[0;31m                                         inputs, attrs, num_outputs)\n\u001b[0m\u001b[1;32m     60\u001b[0m   \u001b[0;32mexcept\u001b[0m \u001b[0mcore\u001b[0m\u001b[0;34m.\u001b[0m\u001b[0m_NotOkStatusException\u001b[0m \u001b[0;32mas\u001b[0m \u001b[0me\u001b[0m\u001b[0;34m:\u001b[0m\u001b[0;34m\u001b[0m\u001b[0;34m\u001b[0m\u001b[0m\n\u001b[1;32m     61\u001b[0m     \u001b[0;32mif\u001b[0m \u001b[0mname\u001b[0m \u001b[0;32mis\u001b[0m \u001b[0;32mnot\u001b[0m \u001b[0;32mNone\u001b[0m\u001b[0;34m:\u001b[0m\u001b[0;34m\u001b[0m\u001b[0;34m\u001b[0m\u001b[0m\n",
            "\u001b[0;31mKeyboardInterrupt\u001b[0m: "
          ]
        }
      ]
    },
    {
      "cell_type": "markdown",
      "metadata": {
        "id": "4XQrhJamsTkB"
      },
      "source": [
        "Cuando ejecutamos el código anterior, se muestra el siguiente resultado a medida que se ejecuta el modelo. Tarda unos 3 minutos por epoch"
      ]
    },
    {
      "cell_type": "markdown",
      "metadata": {
        "id": "thHbvH7ZLrPE"
      },
      "source": [
        "Podemos ver el historial de indicadores del modelo: loss (pérdida) y accuracy (precisión) tanto del conjunto de entrenamiento (train) como del conjunto de validación (test) y representar su evolución con cada pasada o epoch"
      ]
    },
    {
      "cell_type": "code",
      "metadata": {
        "id": "EkbYwXU9FKDd"
      },
      "source": [
        "print(history.history.keys())"
      ],
      "execution_count": null,
      "outputs": []
    },
    {
      "cell_type": "code",
      "metadata": {
        "id": "IyvZEpNVEBdS"
      },
      "source": [
        "plt.plot(history.history['loss'],'g')\n",
        "plt.plot(history.history['val_loss'],'r')\n",
        "plt.xlabel('Epochs')\n",
        "plt.ylabel('loss')\n",
        "plt.legend(['train', 'test'], loc='best')\n",
        "plt.show()"
      ],
      "execution_count": null,
      "outputs": []
    },
    {
      "cell_type": "code",
      "metadata": {
        "id": "Ak7Mn3E6J885"
      },
      "source": [
        "plt.plot(history.history['accuracy'],'g')\n",
        "plt.plot(history.history['val_accuracy'],'r')\n",
        "plt.xlabel('Epochs')\n",
        "plt.ylabel('loss')\n",
        "plt.legend(['train', 'test'], loc='best')\n",
        "plt.show()"
      ],
      "execution_count": null,
      "outputs": []
    },
    {
      "cell_type": "markdown",
      "metadata": {
        "id": "dJH9GcmjFgiV"
      },
      "source": [
        "Al final del último epoch o iteración, la precisión del conjunto de datos de prueba es del 99,1%. Es difícil saber a priori si la precisión es lo suficientemente alta. Para una prueba de funcionamiento, la precisión superior al 99% es muy buena\n",
        "\n",
        "Comprobemos en qué casos nuestro modelo de reconocimiento de dígitos ha fallado en el conjunto de entrenamiento"
      ]
    },
    {
      "cell_type": "code",
      "metadata": {
        "id": "Gq7IT-tFF0cT"
      },
      "source": [
        "predictions0=model.predict(x_train)\n",
        "#(y_train==predictions0).sum(), (y_train==predictions0).count(), (y_train==predictions0).sum()/(y_train==predictions0).count()"
      ],
      "execution_count": null,
      "outputs": []
    },
    {
      "cell_type": "code",
      "metadata": {
        "id": "6nMdBixOOnuW"
      },
      "source": [
        "y_pred=np.argmax(predictions0,axis=1)"
      ],
      "execution_count": null,
      "outputs": []
    },
    {
      "cell_type": "markdown",
      "metadata": {
        "id": "e7divjHLSfBx"
      },
      "source": [
        "Recuperamos los datos originales de x_train e y_train"
      ]
    },
    {
      "cell_type": "code",
      "metadata": {
        "id": "F9JhMaZGQXq9"
      },
      "source": [
        "(x_train, y_train), (x_test, y_test) = mnist.load_data()"
      ],
      "execution_count": null,
      "outputs": []
    },
    {
      "cell_type": "code",
      "metadata": {
        "id": "ReTJiA2FF6PB"
      },
      "source": [
        "fallos_train=x_train[(y_train!=y_pred)]\n",
        "num_train=16\n",
        "plt.imshow(fallos_train[num_train], cmap='Greys')\n",
        "plt.show()\n",
        "print(\"Número: \",y_train[y_train!=y_pred][num_train])\n",
        "print(\"Número predicho: \",y_pred[y_train!=y_pred][num_train])"
      ],
      "execution_count": null,
      "outputs": []
    },
    {
      "cell_type": "markdown",
      "metadata": {
        "id": "i8hKD9VATBBs"
      },
      "source": [
        "Podemos visualizar más casos de entrenamiento donde nuestro modelo falla en su predicción"
      ]
    },
    {
      "cell_type": "code",
      "metadata": {
        "id": "HeWpePNMSvWS"
      },
      "source": [
        "for i in range(9):\n",
        "\tplt.subplot(330 + 1 + i)\n",
        "\tplt.imshow(fallos_train[i], cmap=plt.get_cmap('Greys'))\n",
        "plt.show()"
      ],
      "execution_count": null,
      "outputs": []
    },
    {
      "cell_type": "markdown",
      "metadata": {
        "id": "PH_vgYp-TPPR"
      },
      "source": [
        "Y podemos contabilizar para cada dígito los casos donde se producen errores de clasificación y cuáles son las dígitos predichos erróneamente, para saber con qué números tiene menor precisión nuestro modelo"
      ]
    },
    {
      "cell_type": "code",
      "metadata": {
        "id": "rk6DOPxNJTxy"
      },
      "source": [
        "from sklearn.metrics import confusion_matrix\n",
        "from sklearn.metrics import ConfusionMatrixDisplay\n",
        "labels = np.arange(10)\n",
        "cm = confusion_matrix(y_train, y_pred, labels=labels)\n",
        "print(cm)"
      ],
      "execution_count": null,
      "outputs": []
    },
    {
      "cell_type": "code",
      "metadata": {
        "id": "yZSib440UvNz"
      },
      "source": [
        "disp = ConfusionMatrixDisplay(confusion_matrix=cm, display_labels=labels)\n",
        "disp.plot(cmap=plt.cm.Blues)\n",
        "plt.show()"
      ],
      "execution_count": null,
      "outputs": []
    },
    {
      "cell_type": "markdown",
      "metadata": {
        "id": "adOGqKlje_Kg"
      },
      "source": [
        "#Ejercicio\n",
        "- ¿cuál es el dígito que genera el mayor número de errores?\n",
        "\n",
        "- ¿cuál es la predicción errónea más frecuente?"
      ]
    },
    {
      "cell_type": "markdown",
      "metadata": {
        "id": "htfvEw2Nsc2a"
      },
      "source": [
        "Sin embargo, hay mucho margen de mejora modificando los parámetros del modelo. Hay un envío de un concurso de reconocimiento de dígitos en Kaggle que alcanzó el 99,7% de precisión.\n",
        "Las técnicas que pueden aplicarse para mejorar el aprendizaje y obtener más precisión:\n",
        " - Mejorar el modelo (añadir o quitar capas: lo más complejo puede no ser lo óptimo)\n",
        " - Ajuste de parámetros. Tiene infinitas posibilidades y la experiencia en casos similares es la mejor guía\n",
        " - Ampliar los datos de entrenamiento. Conseguir más datos de entrenamiento es muchas veces costoso pero existen técnica para modificar las imágenes de entrenamiento con pequeñas variaciones (Data Augmentation).  La tarea es crear diferentes versiones de la misma imagen mediante algunas manipulaciones aplicadas. ¿Por qué? Porque un modelo de aprendizaje profundo requiere muchas muestras de entrenamiento, y el aumento ayuda a incrementar el tamaño del conjunto de entrenamiento con mayor diversidad de muestras.\n",
        "Las técnicas más aplicadas son:\n",
        "- Rotación de la imagen\n",
        "- Traslación de la imagen\n",
        "- Recorte\n",
        "- Cambio de escala\n",
        "- Cambio de intensidad\n",
        "- Adición de ruido\n",
        "- Mejora de la imagen\n",
        "- Filtado de la imagen\n"
      ]
    },
    {
      "cell_type": "markdown",
      "metadata": {
        "id": "jL5fgaYPtSgj"
      },
      "source": [
        "##Prueba con dígitos escritos a mano\n",
        "Ahora que el modelo está listo, utilicemos una imagen personalizada para evaluar el rendimiento del modelo. He alojado un dígito personalizado de 28 × 28 en Imgur. Primero, leamos la imagen usando la biblioteca de imágenes y exploremos cómo se ven los datos de entrada:"
      ]
    },
    {
      "cell_type": "code",
      "metadata": {
        "id": "OXWf-2hgtZOh"
      },
      "source": [
        "import imageio\n",
        "import numpy as np\n",
        "from matplotlib import pyplot as plt\n",
        "\n",
        "im = imageio.imread(\"https://i.imgur.com/a3Rql9C.png\")"
      ],
      "execution_count": null,
      "outputs": []
    },
    {
      "cell_type": "markdown",
      "metadata": {
        "id": "OCPIwqMjtiry"
      },
      "source": [
        "A continuación, convierta los valores RGB a escala de grises. Luego podemos usar el método .imshow () como se exploró anteriormente para mostrar la imagen:"
      ]
    },
    {
      "cell_type": "code",
      "metadata": {
        "id": "9qgKTxf7tmXj"
      },
      "source": [
        "gray = np.dot(im[...,:3], [0.299, 0.587, 0.114])\n",
        "plt.imshow(gray, cmap = plt.get_cmap('gray'))\n",
        "plt.show()"
      ],
      "execution_count": null,
      "outputs": []
    },
    {
      "cell_type": "markdown",
      "metadata": {
        "id": "1X0Vo1kQtwFK"
      },
      "source": [
        "A continuación, cambie la forma de la imagen y normalice los valores para que esté lista para usarse en el modelo que acabamos de crear:"
      ]
    },
    {
      "cell_type": "code",
      "metadata": {
        "id": "OCHMSHpetcBy"
      },
      "source": [
        "# reshape and normalize imagethe image\n",
        "gray = gray.reshape(1, img_rows, img_cols, 1) / 255\n"
      ],
      "execution_count": null,
      "outputs": []
    },
    {
      "cell_type": "markdown",
      "metadata": {
        "id": "-YIsr-GpuAxD"
      },
      "source": [
        "Cargue el modelo del archivo guardado usando la función load_model () y prediga el dígito usando el método .predict ():"
      ]
    },
    {
      "cell_type": "code",
      "metadata": {
        "id": "3l6uu9xnuHJr"
      },
      "source": [
        "# load the model\n",
        "from keras.models import load_model\n",
        "model = load_model(\"test_model.h5\")\n",
        "\n",
        "# predict digit\n",
        "prediction = model.predict(gray)\n",
        "print(prediction.argmax())"
      ],
      "execution_count": null,
      "outputs": []
    },
    {
      "cell_type": "markdown",
      "metadata": {
        "id": "0jWwULdBDNDS"
      },
      "source": [
        "Podemos ver que la predicción consiste en un array de 10 probabilidades donde escogemos el valor mayor como dígito más probable"
      ]
    },
    {
      "cell_type": "code",
      "metadata": {
        "id": "JXlyaqIUDiQ6"
      },
      "source": [
        "print(prediction)"
      ],
      "execution_count": null,
      "outputs": []
    },
    {
      "cell_type": "code",
      "metadata": {
        "id": "jdFWQ1JeDpH6"
      },
      "source": [
        "print(prediction.round(1))"
      ],
      "execution_count": null,
      "outputs": []
    },
    {
      "cell_type": "code",
      "metadata": {
        "id": "HBiVttk9WHeZ"
      },
      "source": [
        "print(prediction.argmax())"
      ],
      "execution_count": null,
      "outputs": []
    },
    {
      "cell_type": "markdown",
      "metadata": {
        "id": "3wnjmFKDuOCE"
      },
      "source": [
        "El modelo predice correctamente el dígito que se muestra en la imagen:"
      ]
    },
    {
      "cell_type": "markdown",
      "metadata": {
        "id": "wb4C2dqOuXdL"
      },
      "source": [
        "\n",
        "En este ejemplo hemos creado una red neuronal con Keras usando el back-end de TensorFlow para clasificar dígitos escritos a mano. Aunque alcanzamos una precisión del 99%, todavía hay oportunidades de mejora. También aprendimos cómo clasificar dígitos escritos a mano personalizados, que no formaban parte del conjunto de datos de prueba. Este tutorial, sin embargo, acaba de arañar la superficie del campo de las redes neuronales artificiales. Existen infinitos usos para las redes neuronales que solo están limitados por nuestra imaginación."
      ]
    },
    {
      "cell_type": "markdown",
      "metadata": {
        "id": "P1z1-FwYwRNL"
      },
      "source": [
        "\n",
        "##Fuentes\n",
        "https://www.sitepoint.com/keras-digit-recognition-tutorial/\n",
        "\n",
        "https://machinelearningmastery.com/how-to-develop-a-convolutional-neural-network-from-scratch-for-mnist-handwritten-digit-classification/"
      ]
    }
  ]
}