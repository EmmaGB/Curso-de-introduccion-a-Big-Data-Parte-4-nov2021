{
  "nbformat": 4,
  "nbformat_minor": 0,
  "metadata": {
    "colab": {
      "name": "4_Diagnóstico_de_melanomas_con_deep_learning.ipynb",
      "provenance": [],
      "authorship_tag": "ABX9TyOgkY1Kola4aui9fuBqzCud",
      "include_colab_link": true
    },
    "kernelspec": {
      "name": "python3",
      "display_name": "Python 3"
    },
    "language_info": {
      "name": "python"
    }
  },
  "cells": [
    {
      "cell_type": "markdown",
      "metadata": {
        "id": "view-in-github",
        "colab_type": "text"
      },
      "source": [
        "<a href=\"https://colab.research.google.com/github/alberto1971/Curso-de-introduccion-a-Big-Data-Parte-4-nov2021/blob/main/4_Diagn%C3%B3stico_de__melanomas_con_deep_learning.ipynb\" target=\"_parent\"><img src=\"https://colab.research.google.com/assets/colab-badge.svg\" alt=\"Open In Colab\"/></a>"
      ]
    },
    {
      "cell_type": "markdown",
      "metadata": {
        "id": "TKFH6Dw1t9C4"
      },
      "source": [
        "#1. Competición Kaggle: SIIM-ISIC Melanoma Classification\n",
        "###Identificación de melanomas mediante imágenes\n",
        "\n",
        "https://www.kaggle.com/c/siim-isic-melanoma-classification\n",
        "\n"
      ]
    },
    {
      "cell_type": "markdown",
      "metadata": {
        "id": "9ZqcUUaBtxac"
      },
      "source": [
        "\n",
        "#2. Modelo de resolución del problema \n",
        "\n",
        "https://www.kaggle.com/saife245/melanoma-detail-analysis-eda-ip-augmentation-model"
      ]
    }
  ]
}
