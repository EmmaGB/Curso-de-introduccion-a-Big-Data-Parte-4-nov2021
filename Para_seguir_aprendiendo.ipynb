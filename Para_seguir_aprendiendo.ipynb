{
  "nbformat": 4,
  "nbformat_minor": 0,
  "metadata": {
    "colab": {
      "name": "Para seguir aprendiendo.ipynb",
      "provenance": [],
      "authorship_tag": "ABX9TyOj3Ynuu+lHoYqRoKAeIS5V",
      "include_colab_link": true
    },
    "kernelspec": {
      "name": "python3",
      "display_name": "Python 3"
    },
    "language_info": {
      "name": "python"
    }
  },
  "cells": [
    {
      "cell_type": "markdown",
      "metadata": {
        "id": "view-in-github",
        "colab_type": "text"
      },
      "source": [
        "<a href=\"https://colab.research.google.com/github/alberto1971/Curso-de-introduccion-a-Big-Data-Parte-4-nov2021/blob/main/Para_seguir_aprendiendo.ipynb\" target=\"_parent\"><img src=\"https://colab.research.google.com/assets/colab-badge.svg\" alt=\"Open In Colab\"/></a>"
      ]
    },
    {
      "cell_type": "markdown",
      "metadata": {
        "id": "tM68irmrm3JH"
      },
      "source": [
        "#Para seguir aprendiendo\n",
        "\n",
        "Estos son algunos recursos para aprender más sobre Big Data, Python, Aprendizaje Automático e Inteligencia Artificial\n",
        "\n"
      ]
    },
    {
      "cell_type": "markdown",
      "metadata": {
        "id": "u6LY5jD-nVzz"
      },
      "source": [
        "##DataCamp\n",
        "\n",
        "https://www.datacamp.com/courses\n",
        "\n",
        "\n",
        "##Codecademy\n",
        "\n",
        "https://www.codecademy.com/catalog/language/python\n",
        "\n",
        "##Coursera\n",
        "\n",
        "https://es.coursera.org/\n",
        "\n",
        "https://es.coursera.org/learn/machine-learning\n",
        "\n",
        "##DeepLearning.ai\n",
        "\n",
        "https://www.deeplearning.ai/\n",
        "\n",
        "##Kaggle\n",
        "\n",
        "https://www.kaggle.com/\n",
        "\n",
        "Competiciones en Kaggle\n",
        "https://www.kaggle.com/competitions\n",
        "\n",
        "\n"
      ]
    },
    {
      "cell_type": "markdown",
      "metadata": {
        "id": "kpdU3jJppBUl"
      },
      "source": [
        "#Algunos consejos para finalizar\n",
        "\n",
        "1. El espíritu de Leonardo da Vinci: hazte preguntas y busca respuestas\n",
        "\n",
        "2. Learning by doing: \n",
        "- programar es la mejor forma de aprender a programar\n",
        "\n",
        "\n",
        "3. Diviértete programando\n",
        "- programar es divertido porque es creativo\n",
        "\n",
        "4. Compartir es vivir\n",
        "- Comparte tus programas y usa recursos que otros han compartido\n",
        "(Casi) siempre hay alguien que se enfrentó al mismo problema y lo compartió\n",
        "\n",
        "5. Learning by teaching:\n",
        "\n",
        "    Como aseguraba el físico Richard Feynman, profesor y premio Nobel: \n",
        "\n",
        "      \"If you want to master something, teach it. The more you teach, the better you learn. Teaching is a powerful tool to learning.\"\n",
        "\n",
        "      \"Si quieres dominar algo, enséñalo. Cuanto más enseñes, mejor aprenderás. La enseñanza es una herramienta poderosa para aprender.\"\n",
        "\n",
        "\n",
        "6. Un mundo a tu alcance:\n",
        "\n",
        "  Acceso a recursos muy valiosos desde tu ordenador:\n",
        "  - Formación en las tecnologías más avanzadas con las instituciones y personas más punteras\n",
        "  - Recursos accesibles en la nube: datos, computación y almacenamiento\n",
        "  - Aplicación a multitud de áreas\n",
        "  - Comunidad muy activa y participativa\n",
        "  - Sin barreras de entrada\n",
        "\n",
        "\n",
        "\n",
        " "
      ]
    },
    {
      "cell_type": "code",
      "metadata": {
        "id": "H1-HOHsEmkn_"
      },
      "source": [
        ""
      ],
      "execution_count": null,
      "outputs": []
    }
  ]
}