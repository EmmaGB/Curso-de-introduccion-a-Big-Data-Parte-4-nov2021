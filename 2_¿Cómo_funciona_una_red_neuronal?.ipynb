{
  "nbformat": 4,
  "nbformat_minor": 0,
  "metadata": {
    "colab": {
      "name": "2_¿Cómo_funciona_una_red_neuronal?.ipynb",
      "provenance": [],
      "authorship_tag": "ABX9TyM8IW3h+g6ndA5G/HEZR0oV",
      "include_colab_link": true
    },
    "kernelspec": {
      "name": "python3",
      "display_name": "Python 3"
    },
    "language_info": {
      "name": "python"
    }
  },
  "cells": [
    {
      "cell_type": "markdown",
      "metadata": {
        "id": "view-in-github",
        "colab_type": "text"
      },
      "source": [
        "<a href=\"https://colab.research.google.com/github/alberto1971/Curso-de-introduccion-a-Big-Data-Parte-4-nov2021/blob/main/2_%C2%BFC%C3%B3mo_funciona_una_red_neuronal%3F.ipynb\" target=\"_parent\"><img src=\"https://colab.research.google.com/assets/colab-badge.svg\" alt=\"Open In Colab\"/></a>"
      ]
    },
    {
      "cell_type": "markdown",
      "metadata": {
        "id": "jr_fg9u-rtM5"
      },
      "source": [
        "#Vídeos ¿cómo funciona una red neuronal?\n",
        "\n",
        "##1. Introducción a las redes neuronales: ¿qué es una red neuronal?\n",
        "https://www.youtube.com/watch?v=jKCQsndqEGQ\n",
        "\n",
        "##2. Descenso de gradiente. ¿cómo aprenden las redes neuronales?\n",
        "\n",
        "https://www.youtube.com/watch?v=mwHiaTrQOiI\n",
        "\n",
        "#Vídeos para profundizar en el conocimiento del funcionamiento de las redes neurorales (optativo)\n",
        "\n",
        "##3. ¿Cómo funciona la retropropagación en una red neuronal?\n",
        "\n",
        "https://www.youtube.com/watch?v=ScVpPS_CFYc\n",
        "\n",
        "##4. Los cálculos de la retropropagación\n",
        "\n",
        "https://www.youtube.com/watch?v=CyPjDPKtycM\n"
      ]
    }
  ]
}